{
 "cells": [
  {
   "cell_type": "markdown",
   "id": "9d47ec4c-5cb2-4569-a366-89b1b2f84d12",
   "metadata": {},
   "source": [
    "# Linear Insights: Unveiling Relationships Through Pure Math"
   ]
  },
  {
   "cell_type": "markdown",
   "id": "ffab7af0-1328-4d83-9398-a8cf5aeddd77",
   "metadata": {},
   "source": [
    "**Linear Regression** is a statistical method used to determine the relationship between a dependent variable and one or more independent variables. In machine learning, this relationship helps predict an event's outcome based on the data points of the independent variables.\n",
    "\n",
    "Linear Regression falls under supervised learning, a type of machine learning where the model is trained on labeled data. In supervised learning, the algorithm learns from the input-output pairs in the training dataset to make predictions.\n",
    "\n",
    "**Objective:** The primary goal of Linear Regression is to establish a relationship that can predict the value of a dependent variable (also called the target variable) based on the independent variables (also called features or predictor). The relation is usually a straight line that best fits the different data points as close as possible. The output is of a continuous form, i.e., numerical value.\n",
    "\n",
    "The line can be expressed using the equation:\n",
    "$$𝑦 = mX + b$$\n",
    "where: \n",
    "- $y - \\text{is the dependent variable (the value to be predicted),}$\n",
    "- $X - \\text{is the independent variable (the predictor),}$\n",
    "- $m - \\text{is the slope of the line (indicating the relationship strength),}$\n",
    "- $b - \\text{is the y-intercept (the value of $y$ when $X$ is zero).}$"
   ]
  },
  {
   "cell_type": "code",
   "execution_count": 3,
   "id": "16d5a6a2-79ee-40f6-a4e5-5928711ebc85",
   "metadata": {},
   "outputs": [],
   "source": [
    "import pandas as pd\n",
    "import numpy as np\n",
    "import matplotlib.pyplot as plt"
   ]
  },
  {
   "cell_type": "markdown",
   "id": "750c9246-217d-43ab-ad40-00e93a79f021",
   "metadata": {},
   "source": [
    "Next, in order to build a linear regression, we are going to need some data.\n",
    "\n",
    "We can now take a look at this data:"
   ]
  },
  {
   "cell_type": "code",
   "execution_count": 5,
   "id": "59ab7a2b-b545-48e8-8100-355e8f3bc955",
   "metadata": {},
   "outputs": [
    {
     "data": {
      "text/html": [
       "<div>\n",
       "<style scoped>\n",
       "    .dataframe tbody tr th:only-of-type {\n",
       "        vertical-align: middle;\n",
       "    }\n",
       "\n",
       "    .dataframe tbody tr th {\n",
       "        vertical-align: top;\n",
       "    }\n",
       "\n",
       "    .dataframe thead th {\n",
       "        text-align: right;\n",
       "    }\n",
       "</style>\n",
       "<table border=\"1\" class=\"dataframe\">\n",
       "  <thead>\n",
       "    <tr style=\"text-align: right;\">\n",
       "      <th></th>\n",
       "      <th>price</th>\n",
       "      <th>size</th>\n",
       "    </tr>\n",
       "  </thead>\n",
       "  <tbody>\n",
       "    <tr>\n",
       "      <th>0</th>\n",
       "      <td>234314.144</td>\n",
       "      <td>643.09</td>\n",
       "    </tr>\n",
       "    <tr>\n",
       "      <th>1</th>\n",
       "      <td>228581.528</td>\n",
       "      <td>656.22</td>\n",
       "    </tr>\n",
       "    <tr>\n",
       "      <th>2</th>\n",
       "      <td>281626.336</td>\n",
       "      <td>487.29</td>\n",
       "    </tr>\n",
       "    <tr>\n",
       "      <th>3</th>\n",
       "      <td>401255.608</td>\n",
       "      <td>1504.75</td>\n",
       "    </tr>\n",
       "    <tr>\n",
       "      <th>4</th>\n",
       "      <td>458674.256</td>\n",
       "      <td>1275.46</td>\n",
       "    </tr>\n",
       "  </tbody>\n",
       "</table>\n",
       "</div>"
      ],
      "text/plain": [
       "        price     size\n",
       "0  234314.144   643.09\n",
       "1  228581.528   656.22\n",
       "2  281626.336   487.29\n",
       "3  401255.608  1504.75\n",
       "4  458674.256  1275.46"
      ]
     },
     "execution_count": 5,
     "metadata": {},
     "output_type": "execute_result"
    }
   ],
   "source": [
    "df = pd.read_csv('real_estate_price_size.csv')\n",
    "df.head()"
   ]
  },
  {
   "cell_type": "markdown",
   "id": "619c75f1-e8aa-489d-af9c-e3db78f3765f",
   "metadata": {},
   "source": [
    "While this data frame provides all necessary information, it is usually a good idea to plot our data to attain a more intuitive understanding of the relationship between our variables x and y:"
   ]
  },
  {
   "cell_type": "code",
   "execution_count": 7,
   "id": "e280b39b-6df1-4b6e-941d-b6b1bc9456bf",
   "metadata": {},
   "outputs": [
    {
     "data": {
      "image/png": "[encoded data removed]",
      "text/plain": [
       "<Figure size 700x400 with 1 Axes>"
      ]
     },
     "metadata": {},
     "output_type": "display_data"
    }
   ],
   "source": [
    "plt.figure(figsize = (7,4))\n",
    "\n",
    "plt.scatter(x='price', y='size', data=df)\n",
    "plt.xlabel('X - Feature')\n",
    "plt.ylabel('y - Target')\n",
    "plt.show()"
   ]
  },
  {
   "cell_type": "code",
   "execution_count": 8,
   "id": "296702d4-efb4-4fdc-b5b6-84adc19120b7",
   "metadata": {},
   "outputs": [
    {
     "data": {
      "text/html": [
       "<div>\n",
       "<style scoped>\n",
       "    .dataframe tbody tr th:only-of-type {\n",
       "        vertical-align: middle;\n",
       "    }\n",
       "\n",
       "    .dataframe tbody tr th {\n",
       "        vertical-align: top;\n",
       "    }\n",
       "\n",
       "    .dataframe thead th {\n",
       "        text-align: right;\n",
       "    }\n",
       "</style>\n",
       "<table border=\"1\" class=\"dataframe\">\n",
       "  <thead>\n",
       "    <tr style=\"text-align: right;\">\n",
       "      <th></th>\n",
       "      <th>price</th>\n",
       "      <th>size</th>\n",
       "    </tr>\n",
       "  </thead>\n",
       "  <tbody>\n",
       "    <tr>\n",
       "      <th>price</th>\n",
       "      <td>1.000000</td>\n",
       "      <td>0.862983</td>\n",
       "    </tr>\n",
       "    <tr>\n",
       "      <th>size</th>\n",
       "      <td>0.862983</td>\n",
       "      <td>1.000000</td>\n",
       "    </tr>\n",
       "  </tbody>\n",
       "</table>\n",
       "</div>"
      ],
      "text/plain": [
       "          price      size\n",
       "price  1.000000  0.862983\n",
       "size   0.862983  1.000000"
      ]
     },
     "execution_count": 8,
     "metadata": {},
     "output_type": "execute_result"
    }
   ],
   "source": [
    "df.corr()"
   ]
  },
  {
   "cell_type": "markdown",
   "id": "e44ef624-db8b-4825-b61a-bcd84dafbc9b",
   "metadata": {},
   "source": [
    "There seems to exist a linear relationship between size and price.\n",
    "\n",
    "We need to find the best line of fit that aligns with the data points as much as possible by minimizing any type of error occurring. The algorithm finds the best-fitting line by adjusting the slope $m$ and intercept $b$ to minimize the sum of the squared differences between the actual data points and the predicted values. This method is called the **Least Squares Method**.\n"
   ]
  },
  {
   "cell_type": "markdown",
   "id": "f3660fd4-f872-4ac8-82da-1256ecf52a1a",
   "metadata": {},
   "source": [
    "### How to find the `Slope` and `Intercept` that fit our data points"
   ]
  },
  {
   "cell_type": "markdown",
   "id": "753adb07-0ea6-4efa-b5d3-4407ccbe624d",
   "metadata": {},
   "source": [
    "To answer this question, we need to introduce residuals.\n",
    "\n",
    "<p align=\"center\">\n",
    "  <img src=\"https://github.com/user-attachments/assets/ffb84640-07bf-4e7f-9845-35bad06bc665\" alt=\"Residual Graph\">\n",
    "</p>\n",
    "\n",
    "*`Residuals`* refer to the differences between observed values and those predicted by a model. Residuals describe how much your estimate of a data point is off.\n",
    "\n",
    "$$\\text{Residual}\n",
    "=\n",
    "\\text{Observed Value} \n",
    "−\n",
    "\\text{Predicted Value}\n",
    "\\implies d = y - \\hat{y}\n",
    "$$\n",
    "\n",
    "$$ E = d_1 + d_2 + \\cdots + d_n$$\n",
    "$$ E = d_1^2 + d_2^2 + \\cdots + d_n^2 = \\sum_{i=1}^{n}d_i^2 = \\sum_{i=1}^{n}(y_i - \\hat{y_i})^2$$\n",
    "$$\\text{Note: } \\quad \\hat{y_i} = mx_i + b$$\n",
    "$$ \\text{Hence, } E =  \\sum_{i=1}^{n}(y_i - mx_i - b)^2 $$\n",
    "To fit our regression as close to our data as possible, we naturally want to minimize these residuals over all of our data points. This can be expressed mathematically using the following formula:\n",
    "$$ Min \\quad E(m,b) =  \\sum_{i=1}^{n}(y_i - mx_i - b)^2 $$\n"
   ]
  },
  {
   "cell_type": "markdown",
   "id": "691c081a-8647-4a50-b074-be50d2246c68",
   "metadata": {},
   "source": [
    "\n",
    "To obtain the `Intercept`, we differentiate with respect to $b$\n",
    "$$\\dfrac{\\partial E}{\\partial b} = \\dfrac{\\partial }{\\partial b}  \\sum_{i=1}^{n}(y_i - mx_i - b)^2 =0 $$\n",
    "$$  \\sum_{i=1}^{n}\\dfrac{\\partial }{\\partial b} (y_i - mx_i - b)^2 =0$$\n",
    "$$ - 2 \\sum_{i=1}^{n}(y_i - mx_i - b)= 0 $$\n",
    "$$\\sum_{i=1}^{n}(y_i - mx_i - b)= 0 $$\n",
    "Taking the average \n",
    "$$\\sum_{i=1}^{n}\\dfrac{y_i}{n} - \\sum_{i=1}^{n}\\dfrac{mx_i}{n} - \\sum_{i=1}^{n}\\dfrac{b}{n} = 0$$\n",
    "$$ \\bar{y} - m\\bar{x} - b = 0$$\n",
    "$$b =  \\bar{y} - m\\bar{x}$$\n",
    "$$\\text{Which is the \\textbf{Intercept}}$$"
   ]
  },
  {
   "cell_type": "markdown",
   "id": "066b9ef4-1f2b-4fc6-8ffa-b640a1b5886e",
   "metadata": {},
   "source": [
    "To obtain the `Slope`, we differentiate with respect to $m$\n",
    "$$\\dfrac{\\partial E}{\\partial m} = \\sum_{i=1}^{n}\\dfrac{\\partial }{\\partial m} (y_i - mx_i - b)^2 =0 $$\n",
    "$$\\text{ Since } b =  \\bar{y} - m\\bar{x}$$\n",
    "$$\\sum_{i=1}^{n}\\dfrac{\\partial }{\\partial m} (y_i - mx_i - \\bar{y} + m\\bar{x})^2 =0$$\n",
    "$$2\\sum_{i=1}^{n} (y_i - mx_i - \\bar{y} + m\\bar{x})(-x_i + \\bar{x}) =0$$\n",
    "$$\\sum_{i=1}^{n} \\left[(y_i - \\bar{y}) -m(x_i - \\bar{x})\\right](x_i - \\bar{x}) =0$$\n",
    "$$\\sum_{i=1}^{n} \\left[(y_i - \\bar{y})(x_i - \\bar{x})- m(x_i - \\bar{x})^2\\right] =0$$\n",
    "$$\\sum_{i=1}^{n} (y_i - \\bar{y})(x_i - \\bar{x})= m(x_i - \\bar{x})^2 =0$$\n",
    "$$m= \\dfrac{\\sum_{i=1}^{n} (y_i - \\bar{y})(x_i - \\bar{x})}{\\sum_{i=1}^{n}(x_i - \\bar{x})^2}$$\n",
    "$$\\text{Which is the \\textbf{Slope}}$$"
   ]
  },
  {
   "cell_type": "markdown",
   "id": "805bbbd2-dd55-49a9-bbec-42d2bbc936d7",
   "metadata": {},
   "source": [
    "Let’s compute our formula\n",
    "\n"
   ]
  },
  {
   "cell_type": "code",
   "execution_count": 15,
   "id": "c57d904d-4837-4ed1-89c5-e22525bd9822",
   "metadata": {},
   "outputs": [],
   "source": [
    "# Model Computation\n",
    "class simple_linear_regression:\n",
    "    def __init__ (self):\n",
    "        self.m = None\n",
    "        self.b = None\n",
    "    # Fit Method\n",
    "    def fit(self, X, y):\n",
    "        num = 0\n",
    "        den = 0\n",
    "        for i in range(X.shape[0]):\n",
    "            num = num + (X[i] - X.mean())*(y[i] - y.mean())\n",
    "            den = den + (X[i] - X.mean()) * (X[i] - X.mean())\n",
    "        # Calculate Slope and Intercept\n",
    "        self.m = num/den\n",
    "        self.b = y.mean() - (self.m * X.mean())\n",
    "\n",
    "        print(\"Slope (m):\", self.m)\n",
    "        print(\"Intercept (b):\", self.b)\n",
    "    # To make predictions\n",
    "    def predict(self, X):\n",
    "        y_pred = self.m * X + self.b\n",
    "        return y_pred\n",
    "    # plot our regression line\n",
    "    def plot(self, X, y):\n",
    "        plt.figure(figsize = (7,5))\n",
    "        plt.scatter(X, y, color='blue', label='Data Points')\n",
    "        plt.plot(X, self.predict(X), color='red', label='Regression (Prediction) Line')\n",
    "        plt.xlabel('X')\n",
    "        plt.ylabel('Y')\n",
    "        plt.title('Simple Linear Regression')\n",
    "        plt.legend()\n",
    "        plt.show()"
   ]
  },
  {
   "cell_type": "code",
   "execution_count": 16,
   "id": "2c894c25-267b-48df-bca7-f99d65c44d05",
   "metadata": {},
   "outputs": [],
   "source": [
    "# Split our dataset\n",
    "X = df.iloc[:, 0].values\n",
    "y = df.iloc[:, -1].values"
   ]
  },
  {
   "cell_type": "code",
   "execution_count": 17,
   "id": "4457db61-34d4-4b4b-b71b-aeb425dc7bd3",
   "metadata": {},
   "outputs": [],
   "source": [
    "# using our model\n",
    "model = simple_linear_regression()"
   ]
  },
  {
   "cell_type": "code",
   "execution_count": 18,
   "id": "91595d71-fd09-4301-8e43-41cddaed132a",
   "metadata": {},
   "outputs": [
    {
     "name": "stdout",
     "output_type": "stream",
     "text": [
      "Slope (m): 0.0033369629111027776\n",
      "Intercept (b): -122.33492122980215\n"
     ]
    }
   ],
   "source": [
    "model.fit(X, y)"
   ]
  },
  {
   "cell_type": "markdown",
   "id": "083ab84c-79a9-4e68-a778-0462b91d01b6",
   "metadata": {},
   "source": [
    "We now have the equation of our regression line $y = 0.003337X - 122.3349$.\n",
    "\n",
    "Using this equation to predict our data"
   ]
  },
  {
   "cell_type": "code",
   "execution_count": 20,
   "id": "3202db28-3b46-42a6-a7c5-19bde6e68359",
   "metadata": {},
   "outputs": [],
   "source": [
    "y_pred = model.predict(X) # y_pred = self.m * X + self.b"
   ]
  },
  {
   "cell_type": "markdown",
   "id": "88c71671-d979-40a4-94af-daefc8798e78",
   "metadata": {},
   "source": [
    "View from the regression equation the prediction of y-values from the x-values"
   ]
  },
  {
   "cell_type": "code",
   "execution_count": 22,
   "id": "8db00321-6c6b-4078-94f3-ad3482572738",
   "metadata": {},
   "outputs": [
    {
     "data": {
      "text/html": [
       "<div>\n",
       "<style scoped>\n",
       "    .dataframe tbody tr th:only-of-type {\n",
       "        vertical-align: middle;\n",
       "    }\n",
       "\n",
       "    .dataframe tbody tr th {\n",
       "        vertical-align: top;\n",
       "    }\n",
       "\n",
       "    .dataframe thead th {\n",
       "        text-align: right;\n",
       "    }\n",
       "</style>\n",
       "<table border=\"1\" class=\"dataframe\">\n",
       "  <thead>\n",
       "    <tr style=\"text-align: right;\">\n",
       "      <th></th>\n",
       "      <th>X</th>\n",
       "      <th>Original y_value</th>\n",
       "      <th>Predicted y</th>\n",
       "    </tr>\n",
       "  </thead>\n",
       "  <tbody>\n",
       "    <tr>\n",
       "      <th>0</th>\n",
       "      <td>234314.144</td>\n",
       "      <td>643.09</td>\n",
       "      <td>659.562687</td>\n",
       "    </tr>\n",
       "    <tr>\n",
       "      <th>1</th>\n",
       "      <td>228581.528</td>\n",
       "      <td>656.22</td>\n",
       "      <td>640.433160</td>\n",
       "    </tr>\n",
       "    <tr>\n",
       "      <th>2</th>\n",
       "      <td>281626.336</td>\n",
       "      <td>487.29</td>\n",
       "      <td>817.441717</td>\n",
       "    </tr>\n",
       "    <tr>\n",
       "      <th>3</th>\n",
       "      <td>401255.608</td>\n",
       "      <td>1504.75</td>\n",
       "      <td>1216.640161</td>\n",
       "    </tr>\n",
       "    <tr>\n",
       "      <th>4</th>\n",
       "      <td>458674.256</td>\n",
       "      <td>1275.46</td>\n",
       "      <td>1408.244059</td>\n",
       "    </tr>\n",
       "    <tr>\n",
       "      <th>5</th>\n",
       "      <td>245050.280</td>\n",
       "      <td>575.19</td>\n",
       "      <td>695.388774</td>\n",
       "    </tr>\n",
       "    <tr>\n",
       "      <th>6</th>\n",
       "      <td>265129.064</td>\n",
       "      <td>570.89</td>\n",
       "      <td>762.390932</td>\n",
       "    </tr>\n",
       "    <tr>\n",
       "      <th>7</th>\n",
       "      <td>175716.480</td>\n",
       "      <td>620.82</td>\n",
       "      <td>464.024455</td>\n",
       "    </tr>\n",
       "    <tr>\n",
       "      <th>8</th>\n",
       "      <td>331101.344</td>\n",
       "      <td>682.26</td>\n",
       "      <td>982.537984</td>\n",
       "    </tr>\n",
       "    <tr>\n",
       "      <th>9</th>\n",
       "      <td>218630.608</td>\n",
       "      <td>694.52</td>\n",
       "      <td>607.227309</td>\n",
       "    </tr>\n",
       "  </tbody>\n",
       "</table>\n",
       "</div>"
      ],
      "text/plain": [
       "            X  Original y_value  Predicted y\n",
       "0  234314.144            643.09   659.562687\n",
       "1  228581.528            656.22   640.433160\n",
       "2  281626.336            487.29   817.441717\n",
       "3  401255.608           1504.75  1216.640161\n",
       "4  458674.256           1275.46  1408.244059\n",
       "5  245050.280            575.19   695.388774\n",
       "6  265129.064            570.89   762.390932\n",
       "7  175716.480            620.82   464.024455\n",
       "8  331101.344            682.26   982.537984\n",
       "9  218630.608            694.52   607.227309"
      ]
     },
     "execution_count": 22,
     "metadata": {},
     "output_type": "execute_result"
    }
   ],
   "source": [
    "prediction_table = pd.DataFrame({\n",
    "    'X': X,                        # Column for input values (X)\n",
    "    'Original y_value': y,         # Column for actual y values\n",
    "    'Predicted y': y_pred          # Column for predicted y values\n",
    "})\n",
    "\n",
    "prediction_table.head(10)"
   ]
  },
  {
   "cell_type": "code",
   "execution_count": 23,
   "id": "7f82e43c-2af6-4e6d-be71-cdf13c57fc2d",
   "metadata": {},
   "outputs": [
    {
     "data": {
      "image/png": "[encoded data removed]",
      "text/plain": [
       "<Figure size 700x500 with 1 Axes>"
      ]
     },
     "metadata": {},
     "output_type": "display_data"
    }
   ],
   "source": [
    "# Plot the data points and the regression line\n",
    "model.plot(X, y)"
   ]
  },
  {
   "cell_type": "code",
   "execution_count": null,
   "id": "cc91b356-5668-4054-861d-6dc505f6f842",
   "metadata": {},
   "outputs": [],
   "source": []
  },
  {
   "cell_type": "code",
   "execution_count": null,
   "id": "f62d056d-d278-4de5-af1e-2db1b424a4b8",
   "metadata": {},
   "outputs": [],
   "source": []
  },
  {
   "cell_type": "markdown",
   "id": "507f6634-6fb4-46f6-a14a-ce3de5f42a70",
   "metadata": {},
   "source": [
    "### Implementation with Sklearn Linear Model"
   ]
  },
  {
   "cell_type": "code",
   "execution_count": 25,
   "id": "2fb66878-c4b0-45ce-bb77-7aad5bade45e",
   "metadata": {},
   "outputs": [],
   "source": [
    "from sklearn.linear_model import LinearRegression\n",
    "model = LinearRegression()"
   ]
  },
  {
   "cell_type": "code",
   "execution_count": 26,
   "id": "c1f0bc32-9c13-4912-b2b2-5a2870267228",
   "metadata": {},
   "outputs": [],
   "source": [
    "X = X.reshape(-1, 1)"
   ]
  },
  {
   "cell_type": "code",
   "execution_count": 27,
   "id": "539ddb55-ba4d-4927-90f9-d30da797896d",
   "metadata": {},
   "outputs": [
    {
     "data": {
      "text/html": [
       "<style>#sk-container-id-1 {\n",
       "  /* Definition of color scheme common for light and dark mode */\n",
       "  --sklearn-color-text: black;\n",
       "  --sklearn-color-line: gray;\n",
       "  /* Definition of color scheme for unfitted estimators */\n",
       "  --sklearn-color-unfitted-level-0: #fff5e6;\n",
       "  --sklearn-color-unfitted-level-1: #f6e4d2;\n",
       "  --sklearn-color-unfitted-level-2: #ffe0b3;\n",
       "  --sklearn-color-unfitted-level-3: chocolate;\n",
       "  /* Definition of color scheme for fitted estimators */\n",
       "  --sklearn-color-fitted-level-0: #f0f8ff;\n",
       "  --sklearn-color-fitted-level-1: #d4ebff;\n",
       "  --sklearn-color-fitted-level-2: #b3dbfd;\n",
       "  --sklearn-color-fitted-level-3: cornflowerblue;\n",
       "\n",
       "  /* Specific color for light theme */\n",
       "  --sklearn-color-text-on-default-background: var(--sg-text-color, var(--theme-code-foreground, var(--jp-content-font-color1, black)));\n",
       "  --sklearn-color-background: var(--sg-background-color, var(--theme-background, var(--jp-layout-color0, white)));\n",
       "  --sklearn-color-border-box: var(--sg-text-color, var(--theme-code-foreground, var(--jp-content-font-color1, black)));\n",
       "  --sklearn-color-icon: #696969;\n",
       "\n",
       "  @media (prefers-color-scheme: dark) {\n",
       "    /* Redefinition of color scheme for dark theme */\n",
       "    --sklearn-color-text-on-default-background: var(--sg-text-color, var(--theme-code-foreground, var(--jp-content-font-color1, white)));\n",
       "    --sklearn-color-background: var(--sg-background-color, var(--theme-background, var(--jp-layout-color0, #111)));\n",
       "    --sklearn-color-border-box: var(--sg-text-color, var(--theme-code-foreground, var(--jp-content-font-color1, white)));\n",
       "    --sklearn-color-icon: #878787;\n",
       "  }\n",
       "}\n",
       "\n",
       "#sk-container-id-1 {\n",
       "  color: var(--sklearn-color-text);\n",
       "}\n",
       "\n",
       "#sk-container-id-1 pre {\n",
       "  padding: 0;\n",
       "}\n",
       "\n",
       "#sk-container-id-1 input.sk-hidden--visually {\n",
       "  border: 0;\n",
       "  clip: rect(1px 1px 1px 1px);\n",
       "  clip: rect(1px, 1px, 1px, 1px);\n",
       "  height: 1px;\n",
       "  margin: -1px;\n",
       "  overflow: hidden;\n",
       "  padding: 0;\n",
       "  position: absolute;\n",
       "  width: 1px;\n",
       "}\n",
       "\n",
       "#sk-container-id-1 div.sk-dashed-wrapped {\n",
       "  border: 1px dashed var(--sklearn-color-line);\n",
       "  margin: 0 0.4em 0.5em 0.4em;\n",
       "  box-sizing: border-box;\n",
       "  padding-bottom: 0.4em;\n",
       "  background-color: var(--sklearn-color-background);\n",
       "}\n",
       "\n",
       "#sk-container-id-1 div.sk-container {\n",
       "  /* jupyter's `normalize.less` sets `[hidden] { display: none; }`\n",
       "     but bootstrap.min.css set `[hidden] { display: none !important; }`\n",
       "     so we also need the `!important` here to be able to override the\n",
       "     default hidden behavior on the sphinx rendered scikit-learn.org.\n",
       "     See: https://github.com/scikit-learn/scikit-learn/issues/21755 */\n",
       "  display: inline-block !important;\n",
       "  position: relative;\n",
       "}\n",
       "\n",
       "#sk-container-id-1 div.sk-text-repr-fallback {\n",
       "  display: none;\n",
       "}\n",
       "\n",
       "div.sk-parallel-item,\n",
       "div.sk-serial,\n",
       "div.sk-item {\n",
       "  /* draw centered vertical line to link estimators */\n",
       "  background-image: linear-gradient(var(--sklearn-color-text-on-default-background), var(--sklearn-color-text-on-default-background));\n",
       "  background-size: 2px 100%;\n",
       "  background-repeat: no-repeat;\n",
       "  background-position: center center;\n",
       "}\n",
       "\n",
       "/* Parallel-specific style estimator block */\n",
       "\n",
       "#sk-container-id-1 div.sk-parallel-item::after {\n",
       "  content: \"\";\n",
       "  width: 100%;\n",
       "  border-bottom: 2px solid var(--sklearn-color-text-on-default-background);\n",
       "  flex-grow: 1;\n",
       "}\n",
       "\n",
       "#sk-container-id-1 div.sk-parallel {\n",
       "  display: flex;\n",
       "  align-items: stretch;\n",
       "  justify-content: center;\n",
       "  background-color: var(--sklearn-color-background);\n",
       "  position: relative;\n",
       "}\n",
       "\n",
       "#sk-container-id-1 div.sk-parallel-item {\n",
       "  display: flex;\n",
       "  flex-direction: column;\n",
       "}\n",
       "\n",
       "#sk-container-id-1 div.sk-parallel-item:first-child::after {\n",
       "  align-self: flex-end;\n",
       "  width: 50%;\n",
       "}\n",
       "\n",
       "#sk-container-id-1 div.sk-parallel-item:last-child::after {\n",
       "  align-self: flex-start;\n",
       "  width: 50%;\n",
       "}\n",
       "\n",
       "#sk-container-id-1 div.sk-parallel-item:only-child::after {\n",
       "  width: 0;\n",
       "}\n",
       "\n",
       "/* Serial-specific style estimator block */\n",
       "\n",
       "#sk-container-id-1 div.sk-serial {\n",
       "  display: flex;\n",
       "  flex-direction: column;\n",
       "  align-items: center;\n",
       "  background-color: var(--sklearn-color-background);\n",
       "  padding-right: 1em;\n",
       "  padding-left: 1em;\n",
       "}\n",
       "\n",
       "\n",
       "/* Toggleable style: style used for estimator/Pipeline/ColumnTransformer box that is\n",
       "clickable and can be expanded/collapsed.\n",
       "- Pipeline and ColumnTransformer use this feature and define the default style\n",
       "- Estimators will overwrite some part of the style using the `sk-estimator` class\n",
       "*/\n",
       "\n",
       "/* Pipeline and ColumnTransformer style (default) */\n",
       "\n",
       "#sk-container-id-1 div.sk-toggleable {\n",
       "  /* Default theme specific background. It is overwritten whether we have a\n",
       "  specific estimator or a Pipeline/ColumnTransformer */\n",
       "  background-color: var(--sklearn-color-background);\n",
       "}\n",
       "\n",
       "/* Toggleable label */\n",
       "#sk-container-id-1 label.sk-toggleable__label {\n",
       "  cursor: pointer;\n",
       "  display: block;\n",
       "  width: 100%;\n",
       "  margin-bottom: 0;\n",
       "  padding: 0.5em;\n",
       "  box-sizing: border-box;\n",
       "  text-align: center;\n",
       "}\n",
       "\n",
       "#sk-container-id-1 label.sk-toggleable__label-arrow:before {\n",
       "  /* Arrow on the left of the label */\n",
       "  content: \"▸\";\n",
       "  float: left;\n",
       "  margin-right: 0.25em;\n",
       "  color: var(--sklearn-color-icon);\n",
       "}\n",
       "\n",
       "#sk-container-id-1 label.sk-toggleable__label-arrow:hover:before {\n",
       "  color: var(--sklearn-color-text);\n",
       "}\n",
       "\n",
       "/* Toggleable content - dropdown */\n",
       "\n",
       "#sk-container-id-1 div.sk-toggleable__content {\n",
       "  max-height: 0;\n",
       "  max-width: 0;\n",
       "  overflow: hidden;\n",
       "  text-align: left;\n",
       "  /* unfitted */\n",
       "  background-color: var(--sklearn-color-unfitted-level-0);\n",
       "}\n",
       "\n",
       "#sk-container-id-1 div.sk-toggleable__content.fitted {\n",
       "  /* fitted */\n",
       "  background-color: var(--sklearn-color-fitted-level-0);\n",
       "}\n",
       "\n",
       "#sk-container-id-1 div.sk-toggleable__content pre {\n",
       "  margin: 0.2em;\n",
       "  border-radius: 0.25em;\n",
       "  color: var(--sklearn-color-text);\n",
       "  /* unfitted */\n",
       "  background-color: var(--sklearn-color-unfitted-level-0);\n",
       "}\n",
       "\n",
       "#sk-container-id-1 div.sk-toggleable__content.fitted pre {\n",
       "  /* unfitted */\n",
       "  background-color: var(--sklearn-color-fitted-level-0);\n",
       "}\n",
       "\n",
       "#sk-container-id-1 input.sk-toggleable__control:checked~div.sk-toggleable__content {\n",
       "  /* Expand drop-down */\n",
       "  max-height: 200px;\n",
       "  max-width: 100%;\n",
       "  overflow: auto;\n",
       "}\n",
       "\n",
       "#sk-container-id-1 input.sk-toggleable__control:checked~label.sk-toggleable__label-arrow:before {\n",
       "  content: \"▾\";\n",
       "}\n",
       "\n",
       "/* Pipeline/ColumnTransformer-specific style */\n",
       "\n",
       "#sk-container-id-1 div.sk-label input.sk-toggleable__control:checked~label.sk-toggleable__label {\n",
       "  color: var(--sklearn-color-text);\n",
       "  background-color: var(--sklearn-color-unfitted-level-2);\n",
       "}\n",
       "\n",
       "#sk-container-id-1 div.sk-label.fitted input.sk-toggleable__control:checked~label.sk-toggleable__label {\n",
       "  background-color: var(--sklearn-color-fitted-level-2);\n",
       "}\n",
       "\n",
       "/* Estimator-specific style */\n",
       "\n",
       "/* Colorize estimator box */\n",
       "#sk-container-id-1 div.sk-estimator input.sk-toggleable__control:checked~label.sk-toggleable__label {\n",
       "  /* unfitted */\n",
       "  background-color: var(--sklearn-color-unfitted-level-2);\n",
       "}\n",
       "\n",
       "#sk-container-id-1 div.sk-estimator.fitted input.sk-toggleable__control:checked~label.sk-toggleable__label {\n",
       "  /* fitted */\n",
       "  background-color: var(--sklearn-color-fitted-level-2);\n",
       "}\n",
       "\n",
       "#sk-container-id-1 div.sk-label label.sk-toggleable__label,\n",
       "#sk-container-id-1 div.sk-label label {\n",
       "  /* The background is the default theme color */\n",
       "  color: var(--sklearn-color-text-on-default-background);\n",
       "}\n",
       "\n",
       "/* On hover, darken the color of the background */\n",
       "#sk-container-id-1 div.sk-label:hover label.sk-toggleable__label {\n",
       "  color: var(--sklearn-color-text);\n",
       "  background-color: var(--sklearn-color-unfitted-level-2);\n",
       "}\n",
       "\n",
       "/* Label box, darken color on hover, fitted */\n",
       "#sk-container-id-1 div.sk-label.fitted:hover label.sk-toggleable__label.fitted {\n",
       "  color: var(--sklearn-color-text);\n",
       "  background-color: var(--sklearn-color-fitted-level-2);\n",
       "}\n",
       "\n",
       "/* Estimator label */\n",
       "\n",
       "#sk-container-id-1 div.sk-label label {\n",
       "  font-family: monospace;\n",
       "  font-weight: bold;\n",
       "  display: inline-block;\n",
       "  line-height: 1.2em;\n",
       "}\n",
       "\n",
       "#sk-container-id-1 div.sk-label-container {\n",
       "  text-align: center;\n",
       "}\n",
       "\n",
       "/* Estimator-specific */\n",
       "#sk-container-id-1 div.sk-estimator {\n",
       "  font-family: monospace;\n",
       "  border: 1px dotted var(--sklearn-color-border-box);\n",
       "  border-radius: 0.25em;\n",
       "  box-sizing: border-box;\n",
       "  margin-bottom: 0.5em;\n",
       "  /* unfitted */\n",
       "  background-color: var(--sklearn-color-unfitted-level-0);\n",
       "}\n",
       "\n",
       "#sk-container-id-1 div.sk-estimator.fitted {\n",
       "  /* fitted */\n",
       "  background-color: var(--sklearn-color-fitted-level-0);\n",
       "}\n",
       "\n",
       "/* on hover */\n",
       "#sk-container-id-1 div.sk-estimator:hover {\n",
       "  /* unfitted */\n",
       "  background-color: var(--sklearn-color-unfitted-level-2);\n",
       "}\n",
       "\n",
       "#sk-container-id-1 div.sk-estimator.fitted:hover {\n",
       "  /* fitted */\n",
       "  background-color: var(--sklearn-color-fitted-level-2);\n",
       "}\n",
       "\n",
       "/* Specification for estimator info (e.g. \"i\" and \"?\") */\n",
       "\n",
       "/* Common style for \"i\" and \"?\" */\n",
       "\n",
       ".sk-estimator-doc-link,\n",
       "a:link.sk-estimator-doc-link,\n",
       "a:visited.sk-estimator-doc-link {\n",
       "  float: right;\n",
       "  font-size: smaller;\n",
       "  line-height: 1em;\n",
       "  font-family: monospace;\n",
       "  background-color: var(--sklearn-color-background);\n",
       "  border-radius: 1em;\n",
       "  height: 1em;\n",
       "  width: 1em;\n",
       "  text-decoration: none !important;\n",
       "  margin-left: 1ex;\n",
       "  /* unfitted */\n",
       "  border: var(--sklearn-color-unfitted-level-1) 1pt solid;\n",
       "  color: var(--sklearn-color-unfitted-level-1);\n",
       "}\n",
       "\n",
       ".sk-estimator-doc-link.fitted,\n",
       "a:link.sk-estimator-doc-link.fitted,\n",
       "a:visited.sk-estimator-doc-link.fitted {\n",
       "  /* fitted */\n",
       "  border: var(--sklearn-color-fitted-level-1) 1pt solid;\n",
       "  color: var(--sklearn-color-fitted-level-1);\n",
       "}\n",
       "\n",
       "/* On hover */\n",
       "div.sk-estimator:hover .sk-estimator-doc-link:hover,\n",
       ".sk-estimator-doc-link:hover,\n",
       "div.sk-label-container:hover .sk-estimator-doc-link:hover,\n",
       ".sk-estimator-doc-link:hover {\n",
       "  /* unfitted */\n",
       "  background-color: var(--sklearn-color-unfitted-level-3);\n",
       "  color: var(--sklearn-color-background);\n",
       "  text-decoration: none;\n",
       "}\n",
       "\n",
       "div.sk-estimator.fitted:hover .sk-estimator-doc-link.fitted:hover,\n",
       ".sk-estimator-doc-link.fitted:hover,\n",
       "div.sk-label-container:hover .sk-estimator-doc-link.fitted:hover,\n",
       ".sk-estimator-doc-link.fitted:hover {\n",
       "  /* fitted */\n",
       "  background-color: var(--sklearn-color-fitted-level-3);\n",
       "  color: var(--sklearn-color-background);\n",
       "  text-decoration: none;\n",
       "}\n",
       "\n",
       "/* Span, style for the box shown on hovering the info icon */\n",
       ".sk-estimator-doc-link span {\n",
       "  display: none;\n",
       "  z-index: 9999;\n",
       "  position: relative;\n",
       "  font-weight: normal;\n",
       "  right: .2ex;\n",
       "  padding: .5ex;\n",
       "  margin: .5ex;\n",
       "  width: min-content;\n",
       "  min-width: 20ex;\n",
       "  max-width: 50ex;\n",
       "  color: var(--sklearn-color-text);\n",
       "  box-shadow: 2pt 2pt 4pt #999;\n",
       "  /* unfitted */\n",
       "  background: var(--sklearn-color-unfitted-level-0);\n",
       "  border: .5pt solid var(--sklearn-color-unfitted-level-3);\n",
       "}\n",
       "\n",
       ".sk-estimator-doc-link.fitted span {\n",
       "  /* fitted */\n",
       "  background: var(--sklearn-color-fitted-level-0);\n",
       "  border: var(--sklearn-color-fitted-level-3);\n",
       "}\n",
       "\n",
       ".sk-estimator-doc-link:hover span {\n",
       "  display: block;\n",
       "}\n",
       "\n",
       "/* \"?\"-specific style due to the `<a>` HTML tag */\n",
       "\n",
       "#sk-container-id-1 a.estimator_doc_link {\n",
       "  float: right;\n",
       "  font-size: 1rem;\n",
       "  line-height: 1em;\n",
       "  font-family: monospace;\n",
       "  background-color: var(--sklearn-color-background);\n",
       "  border-radius: 1rem;\n",
       "  height: 1rem;\n",
       "  width: 1rem;\n",
       "  text-decoration: none;\n",
       "  /* unfitted */\n",
       "  color: var(--sklearn-color-unfitted-level-1);\n",
       "  border: var(--sklearn-color-unfitted-level-1) 1pt solid;\n",
       "}\n",
       "\n",
       "#sk-container-id-1 a.estimator_doc_link.fitted {\n",
       "  /* fitted */\n",
       "  border: var(--sklearn-color-fitted-level-1) 1pt solid;\n",
       "  color: var(--sklearn-color-fitted-level-1);\n",
       "}\n",
       "\n",
       "/* On hover */\n",
       "#sk-container-id-1 a.estimator_doc_link:hover {\n",
       "  /* unfitted */\n",
       "  background-color: var(--sklearn-color-unfitted-level-3);\n",
       "  color: var(--sklearn-color-background);\n",
       "  text-decoration: none;\n",
       "}\n",
       "\n",
       "#sk-container-id-1 a.estimator_doc_link.fitted:hover {\n",
       "  /* fitted */\n",
       "  background-color: var(--sklearn-color-fitted-level-3);\n",
       "}\n",
       "</style><div id=\"sk-container-id-1\" class=\"sk-top-container\"><div class=\"sk-text-repr-fallback\"><pre>LinearRegression()</pre><b>In a Jupyter environment, please rerun this cell to show the HTML representation or trust the notebook. <br />On GitHub, the HTML representation is unable to render, please try loading this page with nbviewer.org.</b></div><div class=\"sk-container\" hidden><div class=\"sk-item\"><div class=\"sk-estimator fitted sk-toggleable\"><input class=\"sk-toggleable__control sk-hidden--visually\" id=\"sk-estimator-id-1\" type=\"checkbox\" checked><label for=\"sk-estimator-id-1\" class=\"sk-toggleable__label fitted sk-toggleable__label-arrow fitted\">&nbsp;&nbsp;LinearRegression<a class=\"sk-estimator-doc-link fitted\" rel=\"noreferrer\" target=\"_blank\" href=\"https://scikit-learn.org/1.4/modules/generated/sklearn.linear_model.LinearRegression.html\">?<span>Documentation for LinearRegression</span></a><span class=\"sk-estimator-doc-link fitted\">i<span>Fitted</span></span></label><div class=\"sk-toggleable__content fitted\"><pre>LinearRegression()</pre></div> </div></div></div></div>"
      ],
      "text/plain": [
       "LinearRegression()"
      ]
     },
     "execution_count": 27,
     "metadata": {},
     "output_type": "execute_result"
    }
   ],
   "source": [
    "model.fit(X, y)"
   ]
  },
  {
   "cell_type": "code",
   "execution_count": 28,
   "id": "14b0e242-3f20-4ea3-9c59-d4e58863c4de",
   "metadata": {},
   "outputs": [
    {
     "name": "stdout",
     "output_type": "stream",
     "text": [
      "Slope (m): 0.003336962911102777\n",
      "Intercept (b): -122.33492122980192\n"
     ]
    }
   ],
   "source": [
    "print(\"Slope (m):\", model.coef_[0])\n",
    "print(\"Intercept (b):\", model.intercept_)"
   ]
  },
  {
   "cell_type": "code",
   "execution_count": null,
   "id": "d285446c-b783-4575-b5b8-1cf522f57c30",
   "metadata": {},
   "outputs": [],
   "source": []
  },
  {
   "cell_type": "markdown",
   "id": "9c0c2c3b-1197-419b-a778-2d836e5cc1a3",
   "metadata": {},
   "source": [
    "Our mathematical implementation of linear regression is functioning perfectly! The next phase of our project involves evaluating the performance of our regression model by applying various regression metrics. We will delve into the quantitative assessment of our model’s accuracy and effectiveness, focusing on metrics such as \n",
    "- Mean Absolute Error,\n",
    "- Mean Squared Error,\n",
    "- Root Mean Squared Error,\n",
    "- R-squared,\n",
    "- and Adjusted R-squared. "
   ]
  },
  {
   "cell_type": "code",
   "execution_count": null,
   "id": "48764a58-b51f-4020-929d-c19353b39af2",
   "metadata": {},
   "outputs": [],
   "source": []
  },
  {
   "cell_type": "markdown",
   "id": "e0b0aac6-e232-4292-8e85-32557c463cb4",
   "metadata": {},
   "source": [
    "# Regression Metrics\n",
    "\n",
    "`Regression metrics` are quantitative measures used to evaluate the performance of a regression model. Scikit-learn provides several metrics, each with its strengths and limitations, to assess how well a model fits the data. It is crucial to obtain accurate and approximate results on unseen data; otherwise, the model is of no practical use.\n",
    "\n",
    "To build and deploy a generalized model, it is essential to evaluate the model using various metrics. This process helps us optimize performance, fine-tune the model, and achieve better results.\n",
    "\n",
    "The effectiveness of a regression model must be reported in terms of error in its predictions. We need to understand how close the predictions are to the actual values. Error metrics address this by summarizing, on average, how close the predictions are to the expected values.\n",
    "\n",
    "\n"
   ]
  },
  {
   "cell_type": "code",
   "execution_count": 31,
   "id": "17cc9c6a-6cf2-4f65-b6be-84d9ffeeb088",
   "metadata": {},
   "outputs": [],
   "source": [
    "error = y - y_pred"
   ]
  },
  {
   "cell_type": "code",
   "execution_count": 32,
   "id": "5a7c38ae-c156-4b74-83bf-cf1c6e61ce68",
   "metadata": {},
   "outputs": [
    {
     "data": {
      "text/html": [
       "<div>\n",
       "<style scoped>\n",
       "    .dataframe tbody tr th:only-of-type {\n",
       "        vertical-align: middle;\n",
       "    }\n",
       "\n",
       "    .dataframe tbody tr th {\n",
       "        vertical-align: top;\n",
       "    }\n",
       "\n",
       "    .dataframe thead th {\n",
       "        text-align: right;\n",
       "    }\n",
       "</style>\n",
       "<table border=\"1\" class=\"dataframe\">\n",
       "  <thead>\n",
       "    <tr style=\"text-align: right;\">\n",
       "      <th></th>\n",
       "      <th>X</th>\n",
       "      <th>Original $y$</th>\n",
       "      <th>Predicted $\\hat{y}$</th>\n",
       "      <th>Error ($y -\\hat{y}$)</th>\n",
       "    </tr>\n",
       "  </thead>\n",
       "  <tbody>\n",
       "    <tr>\n",
       "      <th>0</th>\n",
       "      <td>234314.144</td>\n",
       "      <td>643.09</td>\n",
       "      <td>659.562687</td>\n",
       "      <td>-16.472687</td>\n",
       "    </tr>\n",
       "    <tr>\n",
       "      <th>1</th>\n",
       "      <td>228581.528</td>\n",
       "      <td>656.22</td>\n",
       "      <td>640.433160</td>\n",
       "      <td>15.786840</td>\n",
       "    </tr>\n",
       "    <tr>\n",
       "      <th>2</th>\n",
       "      <td>281626.336</td>\n",
       "      <td>487.29</td>\n",
       "      <td>817.441717</td>\n",
       "      <td>-330.151717</td>\n",
       "    </tr>\n",
       "    <tr>\n",
       "      <th>3</th>\n",
       "      <td>401255.608</td>\n",
       "      <td>1504.75</td>\n",
       "      <td>1216.640161</td>\n",
       "      <td>288.109839</td>\n",
       "    </tr>\n",
       "    <tr>\n",
       "      <th>4</th>\n",
       "      <td>458674.256</td>\n",
       "      <td>1275.46</td>\n",
       "      <td>1408.244059</td>\n",
       "      <td>-132.784059</td>\n",
       "    </tr>\n",
       "    <tr>\n",
       "      <th>5</th>\n",
       "      <td>245050.280</td>\n",
       "      <td>575.19</td>\n",
       "      <td>695.388774</td>\n",
       "      <td>-120.198774</td>\n",
       "    </tr>\n",
       "    <tr>\n",
       "      <th>6</th>\n",
       "      <td>265129.064</td>\n",
       "      <td>570.89</td>\n",
       "      <td>762.390932</td>\n",
       "      <td>-191.500932</td>\n",
       "    </tr>\n",
       "    <tr>\n",
       "      <th>7</th>\n",
       "      <td>175716.480</td>\n",
       "      <td>620.82</td>\n",
       "      <td>464.024455</td>\n",
       "      <td>156.795545</td>\n",
       "    </tr>\n",
       "    <tr>\n",
       "      <th>8</th>\n",
       "      <td>331101.344</td>\n",
       "      <td>682.26</td>\n",
       "      <td>982.537984</td>\n",
       "      <td>-300.277984</td>\n",
       "    </tr>\n",
       "    <tr>\n",
       "      <th>9</th>\n",
       "      <td>218630.608</td>\n",
       "      <td>694.52</td>\n",
       "      <td>607.227309</td>\n",
       "      <td>87.292691</td>\n",
       "    </tr>\n",
       "  </tbody>\n",
       "</table>\n",
       "</div>"
      ],
      "text/plain": [
       "            X  Original $y$  Predicted $\\hat{y}$  Error ($y -\\hat{y}$)\n",
       "0  234314.144        643.09           659.562687            -16.472687\n",
       "1  228581.528        656.22           640.433160             15.786840\n",
       "2  281626.336        487.29           817.441717           -330.151717\n",
       "3  401255.608       1504.75          1216.640161            288.109839\n",
       "4  458674.256       1275.46          1408.244059           -132.784059\n",
       "5  245050.280        575.19           695.388774           -120.198774\n",
       "6  265129.064        570.89           762.390932           -191.500932\n",
       "7  175716.480        620.82           464.024455            156.795545\n",
       "8  331101.344        682.26           982.537984           -300.277984\n",
       "9  218630.608        694.52           607.227309             87.292691"
      ]
     },
     "execution_count": 32,
     "metadata": {},
     "output_type": "execute_result"
    }
   ],
   "source": [
    "prediction_table = pd.DataFrame({\n",
    "    'X': X[:, 0],                        \n",
    "    'Original $y$': y,         \n",
    "    'Predicted $\\\\hat{y}$': y_pred,         \n",
    "    'Error ($y -\\\\hat{y}$)' : error\n",
    "})\n",
    "\n",
    "prediction_table.head(10)"
   ]
  },
  {
   "cell_type": "markdown",
   "id": "57992fc9-511c-447a-ab3b-253d7cb2ea23",
   "metadata": {},
   "source": [
    "### 1. Mean Absolute Error (MAE):\n",
    "Mean Absolute Error (MAE) is a commonly used metric in regression analysis. It measures the average absolute discrepancies between the actual values and the predicted values of a dataset. MAE provides an understanding of the model’s average absolute error in making predictions.\n",
    "\n",
    "In other words, MAE tells us how close the predictions are to the actual values on average. Lower MAE values indicate that the model’s predictions are close to the actual values, signifying good predictive performance. Conversely, higher MAE values suggest that the model’s predictions are further from the actual values, indicating poor predictive performance."
   ]
  },
  {
   "cell_type": "markdown",
   "id": "a73fa7e4-e666-4459-91c8-7ffa74346521",
   "metadata": {},
   "source": [
    "$$ \\text{MAE } = \\dfrac{|-16.472687| + |15.786840|  + |-330.151717| + \\cdots}{100}$$\n",
    "$$ \\text{MAE } = \\dfrac{|y_1 - \\hat{y_1}| + |y_2 - \\hat{y_2}| + \\cdots + |y_n - \\hat{y_n}|}{n} $$\n",
    "$$\\text{MAE } = \\sum_{i=1}^{n} \\dfrac {|y_i - \\hat{y_i}|}{n}$$\n",
    "\n",
    "Let’s now see how to implement MAE in Python."
   ]
  },
  {
   "cell_type": "code",
   "execution_count": 35,
   "id": "14991ba9-5676-4a41-82fc-27182f914faf",
   "metadata": {},
   "outputs": [
    {
     "name": "stdout",
     "output_type": "stream",
     "text": [
      "MAE:  121.96968718331632\n"
     ]
    }
   ],
   "source": [
    "from sklearn.metrics import mean_absolute_error\n",
    "print ('MAE: ', mean_absolute_error(y, y_pred))"
   ]
  },
  {
   "cell_type": "markdown",
   "id": "b39887c7-73ae-437e-96fd-af35668fc92d",
   "metadata": {},
   "source": [
    "#### Advantages of MAE\n",
    "- The MAE you get is in the same unit as the output variable.\n",
    "- All errors are treated equally, so the metric is robust to outliers.\n",
    "#### Disadvantages of MAE\n",
    "- As the formula contains absolute values, the graph of MAE is not differentiable so we have to apply various optimizers like Gradient descent which can be differentiable.\n",
    "\n",
    "Now to overcome the disadvantage of MAE next metric came as MSE."
   ]
  },
  {
   "cell_type": "markdown",
   "id": "78deb427-8f5f-4950-8c58-74ec9d862a71",
   "metadata": {},
   "source": [
    "### 2. Mean Square Error (MSE):\n",
    "It represents the squared distance between actual and predicted values. we perform squared to avoid the cancellation of negative terms and it is the benefit of MSE."
   ]
  },
  {
   "cell_type": "markdown",
   "id": "f85cdadc-370d-4b87-97c8-92de0fb1b16f",
   "metadata": {},
   "source": [
    "$$ \\text{MSE } = \\dfrac{(-16.472687)^2 + (15.786840)^2  + (-330.151717)^2 + \\cdots}{100}$$\n",
    "$$ \\text{MSE } = \\dfrac{(y_1 - \\hat{y_1})^2 + (y_2 - \\hat{y_2})^2 + \\cdots + (y_n - \\hat{y_n})^2}{n}$$\n",
    "$$\\text{MSE } = \\sum_{i=1}^{n} \\dfrac {(y_i - \\hat{y_i})^2}{n}$$\n",
    "\n",
    "Let’s now see how to implement MSE in Python."
   ]
  },
  {
   "cell_type": "code",
   "execution_count": 39,
   "id": "8bb5392f-7e17-463d-b9a1-a0127be9d568",
   "metadata": {},
   "outputs": [
    {
     "name": "stdout",
     "output_type": "stream",
     "text": [
      "MSE:  22432.757266051878\n"
     ]
    }
   ],
   "source": [
    "from sklearn.metrics import mean_squared_error\n",
    "print('MSE: ', mean_squared_error(y, y_pred))"
   ]
  },
  {
   "cell_type": "markdown",
   "id": "c4f202d6-1c45-4ab7-9a6b-37de3a74daf6",
   "metadata": {},
   "source": [
    "#### Advantages of MSE\n",
    "\n",
    "- The graph of MSE is differentiable, so you can easily use it as a loss function.\n",
    "\n",
    "#### Disadvantages of MSE\n",
    "\n",
    "- The value you get after calculating MSE is a squared unit of output. for example, the output variable is in meter(m) then after calculating MSE the output we get is in meters squared.\n",
    "- If you have outliers in the dataset then it penalizes the outliers most and the calculated MSE is bigger. So, in short, It is not Robust to outliers which was an advantage in MAE."
   ]
  },
  {
   "cell_type": "markdown",
   "id": "6aaa7fec-f06a-423b-bbb9-a862b79c63bc",
   "metadata": {},
   "source": [
    "### 3. Root Mean Square Error (RMSE): \n",
    "Root Mean Squared Error (RMSE), as its name suggests, is the square root of the mean squared error. Like the Mean Absolute Error (MAE), RMSE is used to determine how close predictions are to actual values on average. However, RMSE has a key distinction.\n",
    "\n",
    "RMSE is particularly useful for identifying large errors or deviations in predictions. It can highlight whether the model significantly overestimated (predicted values much higher than actual) or underestimated (predicted values much lower than actual) certain points. This is because squaring the residuals before averaging them places a greater penalty on larger errors.\n",
    "\n",
    "When to Use RMSE:\n",
    "\n",
    "- Concern for Large Errors: RMSE is ideal if you are particularly concerned about large errors in your predictions. Because squaring the residuals increases the impact of larger errors, RMSE provides a clear indication of their presence.\n",
    "- Comparing Models: RMSE is a popular evaluation metric for regression problems, especially when comparing models that use the same dataset but different algorithms. The model with the lowest RMSE is typically considered the better model.\n",
    "Key Points:\n",
    "\n",
    "There is no specific range for RMSE, but generally, the lower the RMSE, the better the model's performance.\n",
    "RMSE not only measures the average error in predictions but also gives insight into the impact of large errors."
   ]
  },
  {
   "cell_type": "markdown",
   "id": "46c15905-ab58-428f-b57d-9690c5e82302",
   "metadata": {},
   "source": [
    "$$RMSE = \\sqrt {\\sum_{i=1}^{n} \\dfrac {(y_i - \\hat{y_i})^2}{n}}$$\n",
    "$$RMSE = \\sqrt {MSE}$$"
   ]
  },
  {
   "cell_type": "code",
   "execution_count": 43,
   "id": "318be98b-7ea2-4962-a1b5-602b2c84a730",
   "metadata": {},
   "outputs": [
    {
     "name": "stdout",
     "output_type": "stream",
     "text": [
      "RMSE:  149.775689836675\n"
     ]
    }
   ],
   "source": [
    "print('RMSE: ', np.sqrt(mean_squared_error(y, y_pred)))"
   ]
  },
  {
   "cell_type": "markdown",
   "id": "18a8a5e9-0767-488b-81a6-1f1cebf4edfe",
   "metadata": {},
   "source": [
    "We can see that the RMSE value is larger than the MAE. This is a result of some large errors in the dataset.\n",
    "\n",
    "#### Disadvantages of RMSE\n",
    "- It is not that robust to outliers as compared to MAE"
   ]
  },
  {
   "cell_type": "markdown",
   "id": "b0837ce4-8898-44fe-8d50-3903c969abca",
   "metadata": {},
   "source": [
    "### 4. $R^2$ Score:\n",
    "**$R^2$ Score**, also known as the `Coefficient of Determination` or `Goodness of Fit`, is a metric that evaluates the performance of a regression model. Unlike metrics like MAE or MSE, which provide a measure of error or loss, the R2 score indicates how well your model's predictions match the actual data.\n",
    "\n",
    "One of the key advantages of the R2 score is its independence from the context of the data. While MAE and MSE values are influenced by the scale of the data, the $R^2$ score provides a standardized measure that can be easily interpreted regardless of the specific dataset.\n",
    "\n",
    "The R2 score gives you a baseline to compare your model's performance against a simple mean model. Essentially, it measures how much better (or worse) your regression line is compared to a horizontal line representing the mean of the target values. This comparison helps you understand the proportion of the variance in the dependent variable that is predictable from the independent variables."
   ]
  },
  {
   "cell_type": "markdown",
   "id": "9ba50da2-2366-4a50-9241-f19fbac22f59",
   "metadata": {},
   "source": [
    "$$R^2 = 1 - \\dfrac{\\sum(y_i - \\hat{y_i})^2}{\\sum(y_i - \\bar{y_i})^2}$$"
   ]
  },
  {
   "cell_type": "markdown",
   "id": "ebbc70ed-9fa3-4ee9-994f-77e239843bb0",
   "metadata": {},
   "source": [
    "### Interpreting the $R^2$ Score\n",
    "The $R^2$ score, or Coefficient of Determination, provides insight into the performance of a regression model by indicating how well the model's predictions match the actual data. Here’s how to interpret different $R^2$ scores:\n",
    "\n",
    "**$R^2$ Score of 0:**\n",
    "\n",
    "When the $R^2$ score is zero, it means that the regression model's predictions are no better than simply predicting the mean of the target values.\n",
    "In other words, the regression line overlaps with the mean line, indicating that the model fails to capture any of the variance in the data. This suggests that the model has the worst possible performance and cannot leverage the information in the input features to predict the output.\n",
    "\n",
    "**$R^2$ Score of 1:**\n",
    "\n",
    "An $R^2$ score of 1 indicates that the regression model perfectly fits the data. This means that the regression line captures all the variance in the target variable, with no errors in predictions.\n",
    "While this is theoretically possible, it is very unlikely in real-world scenarios due to the presence of noise and variability in the data. A perfect fit usually suggests overfitting, where the model captures not only the underlying pattern but also the noise in the training data.\n",
    "\n",
    "**$R^2$ Score between 0 and 1:**\n",
    "\n",
    "Most real-world models will have an $R^2$ score between 0 and 1. For example, an $R^2$ score of 0.74 means that the model explains 74% of the variance in the target variable.\n",
    "This indicates that the model performs well and can predict the target variable with a reasonable degree of accuracy, but there is still room for improvement as 26% of the variance is unexplained."
   ]
  },
  {
   "cell_type": "code",
   "execution_count": 48,
   "id": "47361599-fff4-496c-99fa-ed714b716541",
   "metadata": {},
   "outputs": [
    {
     "name": "stdout",
     "output_type": "stream",
     "text": [
      "R-squared:  0.7447391865847586\n"
     ]
    }
   ],
   "source": [
    "from sklearn.metrics import r2_score\n",
    "print('R-squared: ', r2_score(y, y_pred))"
   ]
  },
  {
   "cell_type": "markdown",
   "id": "be43ce2c-7be7-4e75-85b1-bdb3e928bbf5",
   "metadata": {},
   "source": [
    "**Limitations of the $R^2$ Score and the Need for Adjusted $R^2$**\n",
    "\n",
    "The $R^2$ score is a useful metric for evaluating the goodness of fit of a regression model. However, it has a significant limitation:\n",
    "\n",
    "- **Inflation with Additional Features:** The $R^2$ score never decreases when new features are added to the model. This is because $R^2$ assumes that adding more features will either increase the explained variance or leave it unchanged. However, this can be misleading.\n",
    "- **Irrelevant Features:** When irrelevant or redundant features are added to the model, the $R^2$ score might still increase. This can give the false impression that the model is improving, even though these features do not actually contribute to better predictions and may lead to overfitting.\n",
    "\n",
    "To address this issue, Adjusted $R^2$ was introduced. Adjusted $R^2$ accounts for the number of predictors in the model and adjusts the $R^2$ score accordingly.\n"
   ]
  },
  {
   "cell_type": "markdown",
   "id": "9a978285-b620-4066-b2f0-98d932d38f59",
   "metadata": {},
   "source": [
    "### 5. $R^2$ Adjusted:\n",
    "\n",
    "Adjusted $R^2$ modifies the $R^2$ score to penalize the addition of irrelevant features:\n",
    "\n",
    "- **Adjusts for the Number of Features:** It introduces a penalty for the number of predictors in the model. This means that adding a new feature will only increase the Adjusted $R^2$ if the new feature improves the model more than would be expected by chance.\n",
    "- **Prevents Overfitting:** By adjusting for the number of predictors, Adjusted $R^2$ discourages the inclusion of irrelevant variables, thus helping to maintain a more parsimonious model.\n",
    "\n",
    "The Adjusted $R^2$ is calculated as follows:"
   ]
  },
  {
   "cell_type": "markdown",
   "id": "86d05936-b718-4a94-9568-296aa05054a7",
   "metadata": {},
   "source": [
    "$$ Adjusted R^2 = 1 - \\left[ \\dfrac{(1-R^2)(n-1)}{n-k-1} \\right]$$\n",
    "\n",
    "Where:\\\n",
    "**$n$** is the number of observations\\\n",
    "**$k$** is the number of predictors\\\n",
    "**$R^2$**  is the original coefficient of determination"
   ]
  },
  {
   "cell_type": "code",
   "execution_count": 52,
   "id": "7f38fab9-b36d-4c42-bfab-e3c020d38e37",
   "metadata": {},
   "outputs": [],
   "source": [
    "n = df.shape[0]\n",
    "k = 1\n",
    "r2 = r2_score(y, y_pred)\n",
    "adj = 1 - ((1-r2)*(n-1))/(n-k-1)"
   ]
  },
  {
   "cell_type": "code",
   "execution_count": 53,
   "id": "aed29b95-2ca5-4ce7-9137-a5731b402982",
   "metadata": {},
   "outputs": [
    {
     "data": {
      "text/plain": [
       "0.742134484407052"
      ]
     },
     "execution_count": 53,
     "metadata": {},
     "output_type": "execute_result"
    }
   ],
   "source": [
    "adj"
   ]
  },
  {
   "cell_type": "markdown",
   "id": "d43e5923-5fd7-4be4-ae6f-cb32023c0476",
   "metadata": {},
   "source": [
    "### Adding Not correlated feature"
   ]
  },
  {
   "cell_type": "code",
   "execution_count": 55,
   "id": "ca8ba2a3-c606-4ac5-acab-425dfba110ca",
   "metadata": {},
   "outputs": [],
   "source": [
    "df_new = df.copy()"
   ]
  },
  {
   "cell_type": "code",
   "execution_count": 56,
   "id": "3a7738fa-343e-4485-9765-c06825ce6a2e",
   "metadata": {},
   "outputs": [
    {
     "data": {
      "text/plain": [
       "(100, 2)"
      ]
     },
     "execution_count": 56,
     "metadata": {},
     "output_type": "execute_result"
    }
   ],
   "source": [
    "df_new.shape"
   ]
  },
  {
   "cell_type": "code",
   "execution_count": 57,
   "id": "ac4dfece-e408-4250-9ee9-6fdf828d5c94",
   "metadata": {},
   "outputs": [
    {
     "data": {
      "text/html": [
       "<div>\n",
       "<style scoped>\n",
       "    .dataframe tbody tr th:only-of-type {\n",
       "        vertical-align: middle;\n",
       "    }\n",
       "\n",
       "    .dataframe tbody tr th {\n",
       "        vertical-align: top;\n",
       "    }\n",
       "\n",
       "    .dataframe thead th {\n",
       "        text-align: right;\n",
       "    }\n",
       "</style>\n",
       "<table border=\"1\" class=\"dataframe\">\n",
       "  <thead>\n",
       "    <tr style=\"text-align: right;\">\n",
       "      <th></th>\n",
       "      <th>size</th>\n",
       "      <th>random_feature</th>\n",
       "      <th>price</th>\n",
       "    </tr>\n",
       "  </thead>\n",
       "  <tbody>\n",
       "    <tr>\n",
       "      <th>0</th>\n",
       "      <td>643.09</td>\n",
       "      <td>0.524976</td>\n",
       "      <td>234314.144</td>\n",
       "    </tr>\n",
       "    <tr>\n",
       "      <th>1</th>\n",
       "      <td>656.22</td>\n",
       "      <td>0.540977</td>\n",
       "      <td>228581.528</td>\n",
       "    </tr>\n",
       "  </tbody>\n",
       "</table>\n",
       "</div>"
      ],
      "text/plain": [
       "     size  random_feature       price\n",
       "0  643.09        0.524976  234314.144\n",
       "1  656.22        0.540977  228581.528"
      ]
     },
     "execution_count": 57,
     "metadata": {},
     "output_type": "execute_result"
    }
   ],
   "source": [
    "df_new['random_feature'] = np.random.random(df_new.shape[0])\n",
    "df_new = df_new[['size', 'random_feature', 'price']]\n",
    "df_new.head(2)"
   ]
  },
  {
   "cell_type": "code",
   "execution_count": 58,
   "id": "57998708-99f4-4674-b635-8ccc8f4a4154",
   "metadata": {},
   "outputs": [
    {
     "data": {
      "text/plain": [
       "-0.17430282560378474"
      ]
     },
     "execution_count": 58,
     "metadata": {},
     "output_type": "execute_result"
    }
   ],
   "source": [
    "np.corrcoef(df_new['price'], df_new['random_feature'])[0, 1]"
   ]
  },
  {
   "cell_type": "code",
   "execution_count": 59,
   "id": "f2959a4e-3bc5-42f1-bd8d-bc03e9b35cf4",
   "metadata": {},
   "outputs": [],
   "source": [
    "X = df_new.iloc[:, 0:2].values\n",
    "y = df_new.iloc[:, -1].values"
   ]
  },
  {
   "cell_type": "code",
   "execution_count": 60,
   "id": "d9b96200-a71e-4c8e-9975-2146cfcef6e6",
   "metadata": {},
   "outputs": [],
   "source": [
    "model = LinearRegression()\n",
    "model.fit(X, y)\n",
    "y_pred = model.predict(X)"
   ]
  },
  {
   "cell_type": "code",
   "execution_count": 61,
   "id": "b2b814a2-8c4f-4b8d-8b34-230825eb9210",
   "metadata": {},
   "outputs": [
    {
     "name": "stdout",
     "output_type": "stream",
     "text": [
      "R-squared:  0.7633914854882642\n"
     ]
    }
   ],
   "source": [
    "print('R-squared: ', r2_score(y, y_pred))"
   ]
  },
  {
   "cell_type": "code",
   "execution_count": 62,
   "id": "fbcd5011-055d-41db-b2df-59d0d134207a",
   "metadata": {},
   "outputs": [
    {
     "name": "stdout",
     "output_type": "stream",
     "text": [
      "Adjusted:  0.7585129594158573\n"
     ]
    }
   ],
   "source": [
    "n = df.shape[0]\n",
    "k = 2\n",
    "r2 = r2_score(y, y_pred)\n",
    "adj = 1 - ((1-r2)*(n-1))/(n-k-1)\n",
    "print('Adjusted: ', adj)"
   ]
  },
  {
   "cell_type": "markdown",
   "id": "0520b09a-5784-4d61-aa7f-6eaa86a24343",
   "metadata": {},
   "source": [
    "We then add a non-correlated feature to the model. This new feature does not have any meaningful relationship with the dependent variable.\n",
    "\n",
    "- **$R^2$ Score:** Upon adding the non-correlated feature, the $R^2$ score slightly increase from 0.7447 to 0.7449. This is because the $R^2$ score tends to increase or remain constant with the addition of more features, regardless of their relevance.\n",
    "- **Adjusted $R^2$ Score:** In contrast, the Adjusted $R^2$ score takes into account the number of predictors and penalizes the inclusion of irrelevant features. Therefore, after adding the non-correlated feature, the Adjusted $R^2$ score decrease from 0.7421 to 0.7396, indicating that the new feature does not contribute to the model's explanatory power and may lead to overfitting."
   ]
  },
  {
   "cell_type": "markdown",
   "id": "b990110f-8897-462d-80a8-fc76cd1f6c5a",
   "metadata": {},
   "source": [
    "### Adding Correlated Features"
   ]
  },
  {
   "cell_type": "code",
   "execution_count": 65,
   "id": "a36a87b6-d31a-4e30-baee-064cb3579318",
   "metadata": {},
   "outputs": [],
   "source": [
    "df2 = df.copy()"
   ]
  },
  {
   "cell_type": "code",
   "execution_count": 66,
   "id": "4ddc6c52-8c35-420d-8d26-3be67b1a7330",
   "metadata": {},
   "outputs": [],
   "source": [
    "df2['new_feature'] = df2['price']*(np.random.randint(2, 5, df2.shape[0])/2)\n"
   ]
  },
  {
   "cell_type": "code",
   "execution_count": 67,
   "id": "0fec9ba3-473b-4a59-abf2-912636ab0eaf",
   "metadata": {},
   "outputs": [
    {
     "data": {
      "text/html": [
       "<div>\n",
       "<style scoped>\n",
       "    .dataframe tbody tr th:only-of-type {\n",
       "        vertical-align: middle;\n",
       "    }\n",
       "\n",
       "    .dataframe tbody tr th {\n",
       "        vertical-align: top;\n",
       "    }\n",
       "\n",
       "    .dataframe thead th {\n",
       "        text-align: right;\n",
       "    }\n",
       "</style>\n",
       "<table border=\"1\" class=\"dataframe\">\n",
       "  <thead>\n",
       "    <tr style=\"text-align: right;\">\n",
       "      <th></th>\n",
       "      <th>size</th>\n",
       "      <th>new_feature</th>\n",
       "      <th>price</th>\n",
       "    </tr>\n",
       "  </thead>\n",
       "  <tbody>\n",
       "    <tr>\n",
       "      <th>0</th>\n",
       "      <td>643.09</td>\n",
       "      <td>351471.216</td>\n",
       "      <td>234314.144</td>\n",
       "    </tr>\n",
       "    <tr>\n",
       "      <th>1</th>\n",
       "      <td>656.22</td>\n",
       "      <td>457163.056</td>\n",
       "      <td>228581.528</td>\n",
       "    </tr>\n",
       "  </tbody>\n",
       "</table>\n",
       "</div>"
      ],
      "text/plain": [
       "     size  new_feature       price\n",
       "0  643.09   351471.216  234314.144\n",
       "1  656.22   457163.056  228581.528"
      ]
     },
     "execution_count": 67,
     "metadata": {},
     "output_type": "execute_result"
    }
   ],
   "source": [
    "df2 = df2[['size', 'new_feature', 'price']]\n",
    "df2.head(2)"
   ]
  },
  {
   "cell_type": "code",
   "execution_count": 68,
   "id": "9dd350cd-2571-4055-986b-527676b2d34e",
   "metadata": {},
   "outputs": [
    {
     "data": {
      "text/plain": [
       "0.6894050027796154"
      ]
     },
     "execution_count": 68,
     "metadata": {},
     "output_type": "execute_result"
    }
   ],
   "source": [
    "np.corrcoef(df2['price'], df2['new_feature'])[0, 1]"
   ]
  },
  {
   "cell_type": "code",
   "execution_count": 69,
   "id": "ef1d9966-ecd5-4aef-aa24-217c3736aa4f",
   "metadata": {},
   "outputs": [],
   "source": [
    "X = df2.iloc[:, 0:2].values\n",
    "y = df2.iloc[:, -1].values"
   ]
  },
  {
   "cell_type": "code",
   "execution_count": 70,
   "id": "c0e77375-d816-4a9e-9ad9-52f954c9cf63",
   "metadata": {},
   "outputs": [],
   "source": [
    "model = LinearRegression()\n",
    "model.fit(X, y)\n",
    "y_pred = model.predict(X)"
   ]
  },
  {
   "cell_type": "code",
   "execution_count": 71,
   "id": "83f7b4c7-846b-4124-9ca7-e0ddc312ee83",
   "metadata": {},
   "outputs": [
    {
     "name": "stdout",
     "output_type": "stream",
     "text": [
      "R-squared:  0.8103419145964094\n"
     ]
    }
   ],
   "source": [
    "print('R-squared: ', r2_score(y, y_pred))"
   ]
  },
  {
   "cell_type": "code",
   "execution_count": 72,
   "id": "3d0af69a-4f3f-4558-9607-ea006cd38fa1",
   "metadata": {},
   "outputs": [
    {
     "data": {
      "text/plain": [
       "0.8064314386087065"
      ]
     },
     "execution_count": 72,
     "metadata": {},
     "output_type": "execute_result"
    }
   ],
   "source": [
    "n = df.shape[0]\n",
    "k = 2\n",
    "r2 = r2_score(y, y_pred)\n",
    "adj = 1 - ((1-r2)*(n-1))/(n-k-1)\n",
    "adj"
   ]
  },
  {
   "cell_type": "markdown",
   "id": "65b1a7c9-72cc-44ed-9a60-3c2bb716b4c1",
   "metadata": {},
   "source": [
    "Next, we add a correlated feature to the original model. This new feature has a strong relationship with the dependent variable.\n",
    "\n",
    "- **$R^2$ Score:** Adding this correlated feature increases the $R^2$ score from 0.7447 to 0.7828. This significant increase reflects the feature's relevance and its ability to explain more variance in the dependent variable.\n",
    "- **Adjusted $R^2$ Score:** Since the correlated feature provides meaningful information, the Adjusted $R^2$ score also increases, from 0.7421 to 0.7778. This indicates that the new feature genuinely improves the model's performance without adding unnecessary complexity."
   ]
  },
  {
   "cell_type": "code",
   "execution_count": null,
   "id": "ee61311b-e59b-4936-b961-493d2056ee87",
   "metadata": {},
   "outputs": [],
   "source": []
  }
 ],
 "metadata": {
  "kernelspec": {
   "display_name": "Python 3 (ipykernel)",
   "language": "python",
   "name": "python3"
  },
  "language_info": {
   "codemirror_mode": {
    "name": "ipython",
    "version": 3
   },
   "file_extension": ".py",
   "mimetype": "text/x-python",
   "name": "python",
   "nbconvert_exporter": "python",
   "pygments_lexer": "ipython3",
   "version": "3.12.4"
  }
 },
 "nbformat": 4,
 "nbformat_minor": 5
}
