{
 "cells": [
  {
   "cell_type": "markdown",
   "id": "8be09efa",
   "metadata": {},
   "source": [
    "# MLZOOMCAMP - (California Housing Prices)\n"
   ]
  },
  {
   "cell_type": "markdown",
   "id": "7f3a1a59",
   "metadata": {},
   "source": [
    "In this homework, we will use the California Housing Prices from [Kaggle](https://www.kaggle.com/datasets/camnugent/california-housing-prices).\n",
    "\n",
    "\n",
    "The goal is to create a regression model for predicting housing prices (column `'median_house_value'`)."
   ]
  },
  {
   "cell_type": "code",
   "execution_count": 1,
   "id": "fe48f0fd",
   "metadata": {},
   "outputs": [],
   "source": [
    "# importing libraries\n",
    "import numpy as np\n",
    "import pandas as pd\n",
    "import seaborn as sns\n",
    "import matplotlib.pyplot as plt\n",
    "from sklearn.linear_model import LinearRegression\n",
    "     "
   ]
  },
  {
   "cell_type": "markdown",
   "id": "c04bb3bb",
   "metadata": {},
   "source": [
    "\n",
    "### EDA\n",
    "- Load the data.\n",
    "- Look at the median_house_value variable. Does it have a long tail?"
   ]
  },
  {
   "cell_type": "code",
   "execution_count": 2,
   "id": "b1afe79e",
   "metadata": {},
   "outputs": [
    {
     "data": {
      "text/html": [
       "<div>\n",
       "<style scoped>\n",
       "    .dataframe tbody tr th:only-of-type {\n",
       "        vertical-align: middle;\n",
       "    }\n",
       "\n",
       "    .dataframe tbody tr th {\n",
       "        vertical-align: top;\n",
       "    }\n",
       "\n",
       "    .dataframe thead th {\n",
       "        text-align: right;\n",
       "    }\n",
       "</style>\n",
       "<table border=\"1\" class=\"dataframe\">\n",
       "  <thead>\n",
       "    <tr style=\"text-align: right;\">\n",
       "      <th></th>\n",
       "      <th>longitude</th>\n",
       "      <th>latitude</th>\n",
       "      <th>housing_median_age</th>\n",
       "      <th>total_rooms</th>\n",
       "      <th>total_bedrooms</th>\n",
       "      <th>population</th>\n",
       "      <th>households</th>\n",
       "      <th>median_income</th>\n",
       "      <th>median_house_value</th>\n",
       "      <th>ocean_proximity</th>\n",
       "    </tr>\n",
       "  </thead>\n",
       "  <tbody>\n",
       "    <tr>\n",
       "      <th>0</th>\n",
       "      <td>-122.23</td>\n",
       "      <td>37.88</td>\n",
       "      <td>41.0</td>\n",
       "      <td>880.0</td>\n",
       "      <td>129.0</td>\n",
       "      <td>322.0</td>\n",
       "      <td>126.0</td>\n",
       "      <td>8.3252</td>\n",
       "      <td>452600.0</td>\n",
       "      <td>NEAR BAY</td>\n",
       "    </tr>\n",
       "    <tr>\n",
       "      <th>1</th>\n",
       "      <td>-122.22</td>\n",
       "      <td>37.86</td>\n",
       "      <td>21.0</td>\n",
       "      <td>7099.0</td>\n",
       "      <td>1106.0</td>\n",
       "      <td>2401.0</td>\n",
       "      <td>1138.0</td>\n",
       "      <td>8.3014</td>\n",
       "      <td>358500.0</td>\n",
       "      <td>NEAR BAY</td>\n",
       "    </tr>\n",
       "    <tr>\n",
       "      <th>2</th>\n",
       "      <td>-122.24</td>\n",
       "      <td>37.85</td>\n",
       "      <td>52.0</td>\n",
       "      <td>1467.0</td>\n",
       "      <td>190.0</td>\n",
       "      <td>496.0</td>\n",
       "      <td>177.0</td>\n",
       "      <td>7.2574</td>\n",
       "      <td>352100.0</td>\n",
       "      <td>NEAR BAY</td>\n",
       "    </tr>\n",
       "    <tr>\n",
       "      <th>3</th>\n",
       "      <td>-122.25</td>\n",
       "      <td>37.85</td>\n",
       "      <td>52.0</td>\n",
       "      <td>1274.0</td>\n",
       "      <td>235.0</td>\n",
       "      <td>558.0</td>\n",
       "      <td>219.0</td>\n",
       "      <td>5.6431</td>\n",
       "      <td>341300.0</td>\n",
       "      <td>NEAR BAY</td>\n",
       "    </tr>\n",
       "    <tr>\n",
       "      <th>4</th>\n",
       "      <td>-122.25</td>\n",
       "      <td>37.85</td>\n",
       "      <td>52.0</td>\n",
       "      <td>1627.0</td>\n",
       "      <td>280.0</td>\n",
       "      <td>565.0</td>\n",
       "      <td>259.0</td>\n",
       "      <td>3.8462</td>\n",
       "      <td>342200.0</td>\n",
       "      <td>NEAR BAY</td>\n",
       "    </tr>\n",
       "  </tbody>\n",
       "</table>\n",
       "</div>"
      ],
      "text/plain": [
       "   longitude  latitude  housing_median_age  total_rooms  total_bedrooms  \\\n",
       "0    -122.23     37.88                41.0        880.0           129.0   \n",
       "1    -122.22     37.86                21.0       7099.0          1106.0   \n",
       "2    -122.24     37.85                52.0       1467.0           190.0   \n",
       "3    -122.25     37.85                52.0       1274.0           235.0   \n",
       "4    -122.25     37.85                52.0       1627.0           280.0   \n",
       "\n",
       "   population  households  median_income  median_house_value ocean_proximity  \n",
       "0       322.0       126.0         8.3252            452600.0        NEAR BAY  \n",
       "1      2401.0      1138.0         8.3014            358500.0        NEAR BAY  \n",
       "2       496.0       177.0         7.2574            352100.0        NEAR BAY  \n",
       "3       558.0       219.0         5.6431            341300.0        NEAR BAY  \n",
       "4       565.0       259.0         3.8462            342200.0        NEAR BAY  "
      ]
     },
     "execution_count": 2,
     "metadata": {},
     "output_type": "execute_result"
    }
   ],
   "source": [
    "df = pd.read_csv('master_housing.csv')\n",
    "df.head()"
   ]
  },
  {
   "cell_type": "markdown",
   "id": "93eb5f0c",
   "metadata": {},
   "source": [
    "### Preparing the dataset \n",
    "\n",
    "For this homework, we only want to use a subset of data. \n",
    "\n",
    "First, keep only the records where `ocean_proximity` is either `'<1H OCEAN'` or `'INLAND'`\n",
    "\n",
    "Next, use only the following columns:\n",
    "\n",
    "* `'latitude'`,\n",
    "* `'longitude'`,\n",
    "* `'housing_median_age'`,\n",
    "* `'total_rooms'`,\n",
    "* `'total_bedrooms'`,\n",
    "* `'population'`,\n",
    "* `'households'`,\n",
    "* `'median_income'`,\n",
    "* `'median_house_value'`"
   ]
  },
  {
   "cell_type": "code",
   "execution_count": 3,
   "id": "f9e396a3",
   "metadata": {},
   "outputs": [
    {
     "data": {
      "text/plain": [
       "array(['<1H OCEAN', 'INLAND'], dtype=object)"
      ]
     },
     "execution_count": 3,
     "metadata": {},
     "output_type": "execute_result"
    }
   ],
   "source": [
    "# Filter the DataFrame to keep only the desired values\n",
    "filtered_df = df[df['ocean_proximity'].isin(['<1H OCEAN', 'INLAND'])]\n",
    "filtered_df['ocean_proximity'].unique()"
   ]
  },
  {
   "cell_type": "code",
   "execution_count": 4,
   "id": "9fe960fb",
   "metadata": {},
   "outputs": [
    {
     "data": {
      "text/html": [
       "<div>\n",
       "<style scoped>\n",
       "    .dataframe tbody tr th:only-of-type {\n",
       "        vertical-align: middle;\n",
       "    }\n",
       "\n",
       "    .dataframe tbody tr th {\n",
       "        vertical-align: top;\n",
       "    }\n",
       "\n",
       "    .dataframe thead th {\n",
       "        text-align: right;\n",
       "    }\n",
       "</style>\n",
       "<table border=\"1\" class=\"dataframe\">\n",
       "  <thead>\n",
       "    <tr style=\"text-align: right;\">\n",
       "      <th></th>\n",
       "      <th>latitude</th>\n",
       "      <th>longitude</th>\n",
       "      <th>housing_median_age</th>\n",
       "      <th>total_rooms</th>\n",
       "      <th>total_bedrooms</th>\n",
       "      <th>population</th>\n",
       "      <th>households</th>\n",
       "      <th>median_income</th>\n",
       "      <th>median_house_value</th>\n",
       "    </tr>\n",
       "  </thead>\n",
       "  <tbody>\n",
       "    <tr>\n",
       "      <th>0</th>\n",
       "      <td>37.64</td>\n",
       "      <td>-121.97</td>\n",
       "      <td>32.0</td>\n",
       "      <td>1283.0</td>\n",
       "      <td>194.0</td>\n",
       "      <td>485.0</td>\n",
       "      <td>171.0</td>\n",
       "      <td>6.0574</td>\n",
       "      <td>431000.0</td>\n",
       "    </tr>\n",
       "    <tr>\n",
       "      <th>1</th>\n",
       "      <td>37.61</td>\n",
       "      <td>-121.99</td>\n",
       "      <td>9.0</td>\n",
       "      <td>3666.0</td>\n",
       "      <td>711.0</td>\n",
       "      <td>2341.0</td>\n",
       "      <td>703.0</td>\n",
       "      <td>4.6458</td>\n",
       "      <td>217000.0</td>\n",
       "    </tr>\n",
       "    <tr>\n",
       "      <th>2</th>\n",
       "      <td>37.57</td>\n",
       "      <td>-121.97</td>\n",
       "      <td>21.0</td>\n",
       "      <td>4342.0</td>\n",
       "      <td>783.0</td>\n",
       "      <td>2172.0</td>\n",
       "      <td>789.0</td>\n",
       "      <td>4.6146</td>\n",
       "      <td>247600.0</td>\n",
       "    </tr>\n",
       "    <tr>\n",
       "      <th>3</th>\n",
       "      <td>37.58</td>\n",
       "      <td>-121.96</td>\n",
       "      <td>15.0</td>\n",
       "      <td>3575.0</td>\n",
       "      <td>597.0</td>\n",
       "      <td>1777.0</td>\n",
       "      <td>559.0</td>\n",
       "      <td>5.7192</td>\n",
       "      <td>283500.0</td>\n",
       "    </tr>\n",
       "    <tr>\n",
       "      <th>4</th>\n",
       "      <td>37.58</td>\n",
       "      <td>-121.98</td>\n",
       "      <td>20.0</td>\n",
       "      <td>4126.0</td>\n",
       "      <td>1031.0</td>\n",
       "      <td>2079.0</td>\n",
       "      <td>975.0</td>\n",
       "      <td>3.6832</td>\n",
       "      <td>216900.0</td>\n",
       "    </tr>\n",
       "  </tbody>\n",
       "</table>\n",
       "</div>"
      ],
      "text/plain": [
       "   latitude  longitude  housing_median_age  total_rooms  total_bedrooms  \\\n",
       "0     37.64    -121.97                32.0       1283.0           194.0   \n",
       "1     37.61    -121.99                 9.0       3666.0           711.0   \n",
       "2     37.57    -121.97                21.0       4342.0           783.0   \n",
       "3     37.58    -121.96                15.0       3575.0           597.0   \n",
       "4     37.58    -121.98                20.0       4126.0          1031.0   \n",
       "\n",
       "   population  households  median_income  median_house_value  \n",
       "0       485.0       171.0         6.0574            431000.0  \n",
       "1      2341.0       703.0         4.6458            217000.0  \n",
       "2      2172.0       789.0         4.6146            247600.0  \n",
       "3      1777.0       559.0         5.7192            283500.0  \n",
       "4      2079.0       975.0         3.6832            216900.0  "
      ]
     },
     "execution_count": 4,
     "metadata": {},
     "output_type": "execute_result"
    }
   ],
   "source": [
    "selected_columns = [\n",
    "    'latitude',\n",
    "    'longitude',\n",
    "    'housing_median_age',\n",
    "    'total_rooms',\n",
    "    'total_bedrooms',\n",
    "    'population',\n",
    "    'households',\n",
    "    'median_income',\n",
    "    'median_house_value'\n",
    "]\n",
    "\n",
    "filtered_df = filtered_df[selected_columns]\n",
    "df = filtered_df.reset_index(drop=True)\n",
    "df.head()"
   ]
  },
  {
   "cell_type": "code",
   "execution_count": 5,
   "id": "c23877fd",
   "metadata": {},
   "outputs": [
    {
     "data": {
      "text/plain": [
       "latitude                0\n",
       "longitude               0\n",
       "housing_median_age      0\n",
       "total_rooms             0\n",
       "total_bedrooms        157\n",
       "population              0\n",
       "households              0\n",
       "median_income           0\n",
       "median_house_value      0\n",
       "dtype: int64"
      ]
     },
     "execution_count": 5,
     "metadata": {},
     "output_type": "execute_result"
    }
   ],
   "source": [
    "# missing value\n",
    "df.isna().sum()"
   ]
  },
  {
   "cell_type": "code",
   "execution_count": 6,
   "id": "ca0e30c9",
   "metadata": {},
   "outputs": [
    {
     "data": {
      "text/html": [
       "<div>\n",
       "<style scoped>\n",
       "    .dataframe tbody tr th:only-of-type {\n",
       "        vertical-align: middle;\n",
       "    }\n",
       "\n",
       "    .dataframe tbody tr th {\n",
       "        vertical-align: top;\n",
       "    }\n",
       "\n",
       "    .dataframe thead th {\n",
       "        text-align: right;\n",
       "    }\n",
       "</style>\n",
       "<table border=\"1\" class=\"dataframe\">\n",
       "  <thead>\n",
       "    <tr style=\"text-align: right;\">\n",
       "      <th></th>\n",
       "      <th>count</th>\n",
       "      <th>mean</th>\n",
       "      <th>std</th>\n",
       "      <th>min</th>\n",
       "      <th>25%</th>\n",
       "      <th>50%</th>\n",
       "      <th>75%</th>\n",
       "      <th>max</th>\n",
       "    </tr>\n",
       "  </thead>\n",
       "  <tbody>\n",
       "    <tr>\n",
       "      <th>latitude</th>\n",
       "      <td>15687.0</td>\n",
       "      <td>35.467307</td>\n",
       "      <td>2.066387</td>\n",
       "      <td>32.6100</td>\n",
       "      <td>33.9400</td>\n",
       "      <td>34.1600</td>\n",
       "      <td>37.3400</td>\n",
       "      <td>41.9500</td>\n",
       "    </tr>\n",
       "    <tr>\n",
       "      <th>longitude</th>\n",
       "      <td>15687.0</td>\n",
       "      <td>-119.217442</td>\n",
       "      <td>1.780380</td>\n",
       "      <td>-124.1400</td>\n",
       "      <td>-121.0700</td>\n",
       "      <td>-118.3700</td>\n",
       "      <td>-117.9900</td>\n",
       "      <td>-114.3100</td>\n",
       "    </tr>\n",
       "    <tr>\n",
       "      <th>housing_median_age</th>\n",
       "      <td>15687.0</td>\n",
       "      <td>27.188118</td>\n",
       "      <td>12.057128</td>\n",
       "      <td>1.0000</td>\n",
       "      <td>17.0000</td>\n",
       "      <td>27.0000</td>\n",
       "      <td>36.0000</td>\n",
       "      <td>52.0000</td>\n",
       "    </tr>\n",
       "    <tr>\n",
       "      <th>total_rooms</th>\n",
       "      <td>15687.0</td>\n",
       "      <td>2665.677312</td>\n",
       "      <td>2257.672743</td>\n",
       "      <td>2.0000</td>\n",
       "      <td>1441.0000</td>\n",
       "      <td>2118.0000</td>\n",
       "      <td>3172.0000</td>\n",
       "      <td>39320.0000</td>\n",
       "    </tr>\n",
       "    <tr>\n",
       "      <th>total_bedrooms</th>\n",
       "      <td>15530.0</td>\n",
       "      <td>541.244688</td>\n",
       "      <td>435.650018</td>\n",
       "      <td>2.0000</td>\n",
       "      <td>295.0000</td>\n",
       "      <td>432.0000</td>\n",
       "      <td>645.0000</td>\n",
       "      <td>6445.0000</td>\n",
       "    </tr>\n",
       "    <tr>\n",
       "      <th>population</th>\n",
       "      <td>15687.0</td>\n",
       "      <td>1466.317205</td>\n",
       "      <td>1180.389908</td>\n",
       "      <td>3.0000</td>\n",
       "      <td>802.0000</td>\n",
       "      <td>1195.0000</td>\n",
       "      <td>1777.0000</td>\n",
       "      <td>35682.0000</td>\n",
       "    </tr>\n",
       "    <tr>\n",
       "      <th>households</th>\n",
       "      <td>15687.0</td>\n",
       "      <td>500.916491</td>\n",
       "      <td>392.759399</td>\n",
       "      <td>2.0000</td>\n",
       "      <td>278.0000</td>\n",
       "      <td>406.0000</td>\n",
       "      <td>602.0000</td>\n",
       "      <td>6082.0000</td>\n",
       "    </tr>\n",
       "    <tr>\n",
       "      <th>median_income</th>\n",
       "      <td>15687.0</td>\n",
       "      <td>3.804019</td>\n",
       "      <td>1.857158</td>\n",
       "      <td>0.4999</td>\n",
       "      <td>2.5208</td>\n",
       "      <td>3.4688</td>\n",
       "      <td>4.6862</td>\n",
       "      <td>15.0001</td>\n",
       "    </tr>\n",
       "    <tr>\n",
       "      <th>median_house_value</th>\n",
       "      <td>15687.0</td>\n",
       "      <td>191943.020017</td>\n",
       "      <td>108801.077620</td>\n",
       "      <td>14999.0000</td>\n",
       "      <td>111300.0000</td>\n",
       "      <td>166900.0000</td>\n",
       "      <td>241100.0000</td>\n",
       "      <td>500001.0000</td>\n",
       "    </tr>\n",
       "  </tbody>\n",
       "</table>\n",
       "</div>"
      ],
      "text/plain": [
       "                      count           mean            std         min  \\\n",
       "latitude            15687.0      35.467307       2.066387     32.6100   \n",
       "longitude           15687.0    -119.217442       1.780380   -124.1400   \n",
       "housing_median_age  15687.0      27.188118      12.057128      1.0000   \n",
       "total_rooms         15687.0    2665.677312    2257.672743      2.0000   \n",
       "total_bedrooms      15530.0     541.244688     435.650018      2.0000   \n",
       "population          15687.0    1466.317205    1180.389908      3.0000   \n",
       "households          15687.0     500.916491     392.759399      2.0000   \n",
       "median_income       15687.0       3.804019       1.857158      0.4999   \n",
       "median_house_value  15687.0  191943.020017  108801.077620  14999.0000   \n",
       "\n",
       "                            25%          50%          75%          max  \n",
       "latitude                33.9400      34.1600      37.3400      41.9500  \n",
       "longitude             -121.0700    -118.3700    -117.9900    -114.3100  \n",
       "housing_median_age      17.0000      27.0000      36.0000      52.0000  \n",
       "total_rooms           1441.0000    2118.0000    3172.0000   39320.0000  \n",
       "total_bedrooms         295.0000     432.0000     645.0000    6445.0000  \n",
       "population             802.0000    1195.0000    1777.0000   35682.0000  \n",
       "households             278.0000     406.0000     602.0000    6082.0000  \n",
       "median_income            2.5208       3.4688       4.6862      15.0001  \n",
       "median_house_value  111300.0000  166900.0000  241100.0000  500001.0000  "
      ]
     },
     "execution_count": 6,
     "metadata": {},
     "output_type": "execute_result"
    }
   ],
   "source": [
    "df.describe().T"
   ]
  },
  {
   "cell_type": "markdown",
   "id": "d5fd36dd",
   "metadata": {},
   "source": [
    "\n",
    "### Prepare and split the dataset\n",
    "\n",
    "* Shuffle the dataset (the filtered one you created above), use seed `42`.\n",
    "* Split your data in train/val/test sets, with 60%/20%/20% distribution.\n",
    "* Apply the log transformation to the `median_house_value` variable using the `np.log1p()` function.\n"
   ]
  },
  {
   "cell_type": "code",
   "execution_count": 7,
   "id": "f68ee5f9",
   "metadata": {},
   "outputs": [],
   "source": [
    "n = len(df)\n",
    "\n",
    "n_val = int(n * 0.2)\n",
    "n_test = int(n * 0.2)\n",
    "n_train = n - n_val - n_test"
   ]
  },
  {
   "cell_type": "code",
   "execution_count": 8,
   "id": "25f4de33",
   "metadata": {},
   "outputs": [
    {
     "data": {
      "text/plain": [
       "(15687, 15687)"
      ]
     },
     "execution_count": 8,
     "metadata": {},
     "output_type": "execute_result"
    }
   ],
   "source": [
    "n, n_val + n_test + n_train"
   ]
  },
  {
   "cell_type": "code",
   "execution_count": 9,
   "id": "d54ec3eb",
   "metadata": {},
   "outputs": [],
   "source": [
    "df_train = df.iloc[ : n_train]\n",
    "df_val = df.iloc[n_train : n_train+n_val]\n",
    "df_test = df.iloc[n_train+n_val : ]"
   ]
  },
  {
   "cell_type": "code",
   "execution_count": 10,
   "id": "2002e4b7",
   "metadata": {},
   "outputs": [],
   "source": [
    "idx = np.arange(n)\n",
    "\n",
    "np.random.seed(42)\n",
    "np.random.shuffle(idx)    # np.random.shuffle() - returns a shuffled array\n",
    "\n",
    "df_train = df.iloc[idx[:n_train]]\n",
    "df_val = df.iloc[idx[n_train:n_train+n_val]]\n",
    "df_test = df.iloc[idx[n_train+n_val:]]\n",
    "\n"
   ]
  },
  {
   "cell_type": "code",
   "execution_count": 11,
   "id": "d87402dd",
   "metadata": {},
   "outputs": [
    {
     "data": {
      "text/plain": [
       "(9413, 3137, 3137)"
      ]
     },
     "execution_count": 11,
     "metadata": {},
     "output_type": "execute_result"
    }
   ],
   "source": [
    "len(df_train), len(df_val), len(df_test)"
   ]
  },
  {
   "cell_type": "code",
   "execution_count": 12,
   "id": "3526250c",
   "metadata": {},
   "outputs": [],
   "source": [
    "df_train = df_train.reset_index(drop=True)\n",
    "df_val = df_val.reset_index(drop=True)\n",
    "df_test = df_test.reset_index(drop=True)"
   ]
  },
  {
   "cell_type": "code",
   "execution_count": 13,
   "id": "aa4aaf5b",
   "metadata": {},
   "outputs": [
    {
     "data": {
      "image/png": "[encoded data removed]",
      "text/plain": [
       "<Figure size 640x480 with 1 Axes>"
      ]
     },
     "metadata": {},
     "output_type": "display_data"
    }
   ],
   "source": [
    "sns.histplot(df['median_house_value'], bins=50);"
   ]
  },
  {
   "cell_type": "code",
   "execution_count": 14,
   "id": "cdb1ddb6",
   "metadata": {},
   "outputs": [
    {
     "data": {
      "image/png": "[encoded data removed]",
      "text/plain": [
       "<Figure size 640x480 with 1 Axes>"
      ]
     },
     "metadata": {},
     "output_type": "display_data"
    }
   ],
   "source": [
    "value_logs = np.log1p(df['median_house_value'])\n",
    "\n",
    "sns.histplot(value_logs, bins=50);"
   ]
  },
  {
   "cell_type": "code",
   "execution_count": 15,
   "id": "41d1b1f6",
   "metadata": {},
   "outputs": [],
   "source": [
    "y_train = np.log1p(df_train.median_house_value.values)\n",
    "y_val = np.log1p(df_val.median_house_value.values)\n",
    "y_test = np.log1p(df_test.median_house_value.values)"
   ]
  },
  {
   "cell_type": "code",
   "execution_count": 16,
   "id": "be258ab6",
   "metadata": {},
   "outputs": [
    {
     "data": {
      "text/plain": [
       "(9413, 3137, 3137)"
      ]
     },
     "execution_count": 16,
     "metadata": {},
     "output_type": "execute_result"
    }
   ],
   "source": [
    "len(y_train),len(y_val),len(y_test)"
   ]
  },
  {
   "cell_type": "code",
   "execution_count": 17,
   "id": "eb10c813",
   "metadata": {},
   "outputs": [],
   "source": [
    "del df_train['median_house_value']\n",
    "del df_val['median_house_value']\n",
    "del df_test['median_house_value']"
   ]
  },
  {
   "cell_type": "code",
   "execution_count": 18,
   "id": "c145439d",
   "metadata": {},
   "outputs": [],
   "source": [
    "# Functions \n",
    "\n",
    "def train_linear_regression(X, y):\n",
    "    ones = np.ones(X.shape[0])\n",
    "    X = np.column_stack([ones, X]) # add a bias term (intercept) to the linear regression model.\n",
    "\n",
    "    XTX = X.T.dot(X)\n",
    "    XTX_inv = np.linalg.inv(XTX)\n",
    "    w_full = XTX_inv.dot(X.T).dot(y) # calculates the weights (w_full) for the linear regression model \n",
    "    \n",
    "    return w_full[0], w_full[1:]\n",
    "\n",
    "def rmse(y, y_pred):\n",
    "    se = (y - y_pred) ** 2\n",
    "    mse = se.mean()\n",
    "    return np.sqrt(mse)\n",
    "\n",
    "#  list of column names that are considered as features for the linear regression model\n",
    "\n",
    "base = [\n",
    "    'latitude',\n",
    "    'longitude',\n",
    "    'housing_median_age',\n",
    "    'total_rooms',\n",
    "    'total_bedrooms',\n",
    "    'population',\n",
    "    'households',\n",
    "    'median_income'\n",
    "]\n",
    "\n",
    "def prepare_X(df):\n",
    "    df_num = df[base]\n",
    "    df_num = df_num.fillna(0)\n",
    "    X = df_num.values\n",
    "    return X"
   ]
  },
  {
   "cell_type": "code",
   "execution_count": 19,
   "id": "b739ab50",
   "metadata": {},
   "outputs": [],
   "source": [
    "df_train1 = df_train.copy()\n",
    "df_train2 = df_train.copy()\n",
    "df_train3 = df_train.copy()"
   ]
  },
  {
   "cell_type": "markdown",
   "id": "e0da2840",
   "metadata": {},
   "source": [
    "#### Model_1 with fill 0"
   ]
  },
  {
   "cell_type": "code",
   "execution_count": 20,
   "id": "ca5d2df8",
   "metadata": {},
   "outputs": [
    {
     "name": "stdout",
     "output_type": "stream",
     "text": [
      "missing value before =  94\n",
      "missing value after =  0\n"
     ]
    }
   ],
   "source": [
    "print(\"missing value before = \", df_train1.total_bedrooms.isna().sum())\n",
    "df_train1.total_bedrooms = df_train1.total_bedrooms.fillna(0)\n",
    "print(\"missing value after = \", df_train1.total_bedrooms.isna().sum())"
   ]
  },
  {
   "cell_type": "code",
   "execution_count": 21,
   "id": "8ddd448e",
   "metadata": {},
   "outputs": [
    {
     "data": {
      "text/plain": [
       "(-9.763249477929213,\n",
       " array([11.48901968, 12.14856943, 12.45852739, ..., 12.91332356,\n",
       "        11.93076692, 12.11614341]))"
      ]
     },
     "execution_count": 21,
     "metadata": {},
     "output_type": "execute_result"
    }
   ],
   "source": [
    "X_train1 = df_train1.fillna(0).values\n",
    "\n",
    "w0_1, w_1 = train_linear_regression(X_train1, y_train)\n",
    "\n",
    "y_pred_1 = w0_1 + X_train1.dot(w_1)\n",
    "\n",
    "w0_1, y_pred_1"
   ]
  },
  {
   "cell_type": "code",
   "execution_count": 22,
   "id": "166e0fe5",
   "metadata": {},
   "outputs": [
    {
     "data": {
      "image/png": "[encoded data removed]",
      "text/plain": [
       "<Figure size 640x480 with 1 Axes>"
      ]
     },
     "metadata": {},
     "output_type": "display_data"
    }
   ],
   "source": [
    "sns.histplot(y_pred_1, label='prediction', color='red', alpha=0.5, bins=50)\n",
    "sns.histplot(y_train, label='target', color='blue', alpha=0.5, bins=50)\n",
    "plt.legend();"
   ]
  },
  {
   "cell_type": "code",
   "execution_count": 23,
   "id": "2c665584",
   "metadata": {},
   "outputs": [
    {
     "data": {
      "text/plain": [
       "0.34"
      ]
     },
     "execution_count": 23,
     "metadata": {},
     "output_type": "execute_result"
    }
   ],
   "source": [
    "round(rmse(y_train, y_pred_1),2)"
   ]
  },
  {
   "cell_type": "code",
   "execution_count": 24,
   "id": "67bc51e4",
   "metadata": {},
   "outputs": [
    {
     "data": {
      "text/plain": [
       "0.34"
      ]
     },
     "execution_count": 24,
     "metadata": {},
     "output_type": "execute_result"
    }
   ],
   "source": [
    "X_val = prepare_X(df_val)\n",
    "y_pred_11 = w0_1 + X_val.dot(w_1)\n",
    "round(rmse(y_val, y_pred_11),2)"
   ]
  },
  {
   "cell_type": "markdown",
   "id": "24f5ad2d",
   "metadata": {},
   "source": [
    "#### Model_2 with fill with Mean"
   ]
  },
  {
   "cell_type": "code",
   "execution_count": 25,
   "id": "c8dad2bd",
   "metadata": {},
   "outputs": [
    {
     "name": "stdout",
     "output_type": "stream",
     "text": [
      "missing value before =  94\n",
      "missing value after =  0\n"
     ]
    }
   ],
   "source": [
    "print(\"missing value before = \", df_train2.total_bedrooms.isna().sum())\n",
    "df_train2.total_bedrooms = df_train2.total_bedrooms.fillna(df_train2.total_bedrooms.mean())\n",
    "print(\"missing value after = \", df_train2.total_bedrooms.isna().sum())"
   ]
  },
  {
   "cell_type": "code",
   "execution_count": 26,
   "id": "0ea1a775",
   "metadata": {},
   "outputs": [
    {
     "data": {
      "text/plain": [
       "(-9.886133215861097,\n",
       " array([11.48148474, 12.14204505, 12.45148382, ..., 12.9139426 ,\n",
       "        11.93466055, 12.11281089]))"
      ]
     },
     "execution_count": 26,
     "metadata": {},
     "output_type": "execute_result"
    }
   ],
   "source": [
    "X_train2 = df_train2.fillna(df_train2.total_bedrooms.mean()).values\n",
    "\n",
    "w0_2, w_2 = train_linear_regression(X_train2, y_train)\n",
    "\n",
    "y_pred_2 = w0_2 + X_train2.dot(w_2)\n",
    "\n",
    "w0_2, y_pred_2"
   ]
  },
  {
   "cell_type": "code",
   "execution_count": 27,
   "id": "6fe20f2b",
   "metadata": {},
   "outputs": [
    {
     "data": {
      "image/png": "[encoded data removed]",
      "text/plain": [
       "<Figure size 640x480 with 1 Axes>"
      ]
     },
     "metadata": {},
     "output_type": "display_data"
    }
   ],
   "source": [
    "sns.histplot(y_pred_2, label='prediction', color='red', alpha=0.5, bins=50)\n",
    "sns.histplot(y_train, label='target', color='blue', alpha=0.5, bins=50)\n",
    "plt.legend();"
   ]
  },
  {
   "cell_type": "code",
   "execution_count": 28,
   "id": "dcdb34cf",
   "metadata": {},
   "outputs": [
    {
     "data": {
      "text/plain": [
       "0.34"
      ]
     },
     "execution_count": 28,
     "metadata": {},
     "output_type": "execute_result"
    }
   ],
   "source": [
    "round(rmse(y_train, y_pred_2),2)"
   ]
  },
  {
   "cell_type": "code",
   "execution_count": 29,
   "id": "0e3ad7ce",
   "metadata": {},
   "outputs": [
    {
     "data": {
      "text/plain": [
       "0.34"
      ]
     },
     "execution_count": 29,
     "metadata": {},
     "output_type": "execute_result"
    }
   ],
   "source": [
    "X_val = prepare_X(df_val)\n",
    "y_pred_22 = w0_2 + X_val.dot(w_2)\n",
    "round(rmse(y_val, y_pred_22),2)"
   ]
  },
  {
   "cell_type": "markdown",
   "id": "d4e5c769",
   "metadata": {},
   "source": [
    "**Observation the RMSE** is the Same 0.34"
   ]
  },
  {
   "cell_type": "markdown",
   "id": "24eb7fc6",
   "metadata": {},
   "source": [
    "### Regularization"
   ]
  },
  {
   "cell_type": "code",
   "execution_count": 30,
   "id": "1b40c60f",
   "metadata": {},
   "outputs": [],
   "source": [
    "def train_linear_regression_reg(X, y, r=0.001):\n",
    "    ones = np.ones(X.shape[0])\n",
    "    X = np.column_stack([ones, X])\n",
    "\n",
    "    XTX = X.T.dot(X)\n",
    "    XTX = XTX + r * np.eye(XTX.shape[0])\n",
    "\n",
    "    XTX_inv = np.linalg.inv(XTX)\n",
    "    w_full = XTX_inv.dot(X.T).dot(y)\n",
    "    \n",
    "    return w_full[0], w_full[1:]\n"
   ]
  },
  {
   "cell_type": "code",
   "execution_count": 31,
   "id": "cca19d8b",
   "metadata": {},
   "outputs": [
    {
     "name": "stdout",
     "output_type": "stream",
     "text": [
      "When r=0: intercept = -9.763249477929213, RMSE = 0.3408479034201646\n",
      "When r=1e-06: intercept = -9.76322883158197, RMSE = 0.340847906183037\n",
      "When r=0.0001: intercept = -9.761185235939122, RMSE = 0.3408481800532382\n",
      "When r=0.001: intercept = -9.74264624988528, RMSE = 0.34085069219124453\n",
      "When r=0.01: intercept = -9.561056193156471, RMSE = 0.3408779300469961\n",
      "When r=0.1: intercept = -8.058889769818062, RMSE = 0.3412862041994745\n",
      "When r=1: intercept = -3.1331542785822872, RMSE = 0.34489583276302355\n",
      "When r=5: intercept = -0.841086797533389, RMSE = 0.3477398070480637\n",
      "When r=10: intercept = -0.4381172315908744, RMSE = 0.3483149833520889\n"
     ]
    }
   ],
   "source": [
    "# Define the list of regularization parameters to try\n",
    "r_values = [0, 0.000001, 0.0001, 0.001, 0.01, 0.1, 1, 5, 10]\n",
    "\n",
    "for r in r_values:\n",
    "    X_train3 = prepare_X(df_train3)\n",
    "    w0_3, w_3 = train_linear_regression_reg(X_train3, y_train, r=r)\n",
    "\n",
    "    X_val_3 = prepare_X(df_val)\n",
    "    y_pred_3 = w0_3 + X_val_3.dot(w_3)\n",
    "    score = rmse(y_val, y_pred_3)\n",
    "    \n",
    "    print(f\"When r={r}: intercept = {w0_3}, RMSE = {score}\")"
   ]
  },
  {
   "cell_type": "markdown",
   "id": "00eaa6bb",
   "metadata": {},
   "source": [
    "The RMSE is the lowest when r is 0 (no regularization), making it the best choice in this case for achieving the lowest prediction error on the validation dataset"
   ]
  },
  {
   "cell_type": "markdown",
   "id": "d88cd254",
   "metadata": {},
   "source": [
    "##### Let's find out how selecting the seed influences our score"
   ]
  },
  {
   "cell_type": "code",
   "execution_count": 32,
   "id": "c6507bbf",
   "metadata": {},
   "outputs": [],
   "source": [
    "from sklearn.metrics import mean_squared_error"
   ]
  },
  {
   "cell_type": "code",
   "execution_count": 33,
   "id": "399c7203",
   "metadata": {},
   "outputs": [
    {
     "name": "stdout",
     "output_type": "stream",
     "text": [
      "Seed =  0 , Rmse score = 0.332\n",
      "Seed =  1 , Rmse score = 0.342\n",
      "Seed =  2 , Rmse score = 0.344\n",
      "Seed =  3 , Rmse score = 0.342\n",
      "Seed =  4 , Rmse score = 0.339\n",
      "Seed =  5 , Rmse score = 0.341\n",
      "Seed =  6 , Rmse score = 0.337\n",
      "Seed =  7 , Rmse score = 0.341\n",
      "Seed =  8 , Rmse score = 0.336\n",
      "Seed =  9 , Rmse score = 0.336\n"
     ]
    }
   ],
   "source": [
    "rmse_scores =[]\n",
    "\n",
    "# Define the list of seed values\n",
    "seed_values = [0, 1, 2, 3, 4, 5, 6, 7, 8, 9]\n",
    "\n",
    "for s in seed_values:\n",
    "    \n",
    "    np.random.seed(s)\n",
    "    np.random.shuffle(idx)\n",
    "    df_train = df.iloc[idx[:n_train]]\n",
    "    df_val = df.iloc[idx[n_train:n_train+n_val]]\n",
    "    df_test = df.iloc[idx[n_train+n_val:]]\n",
    "    \n",
    "    df_train = df_train.reset_index(drop=True)\n",
    "    df_val = df_val.reset_index(drop=True)\n",
    "    df_test = df_test.reset_index(drop=True)\n",
    "\n",
    "    y_train = np.log1p(df_train.median_house_value.values)\n",
    "    y_val = np.log1p(df_val.median_house_value.values)\n",
    "    y_test = np.log1p(df_test.median_house_value.values)\n",
    "    \n",
    "    # fillna with 0\n",
    "    #df_train = df_train.fillna(0).values\n",
    "    \n",
    "    # train \n",
    "    X_train = prepare_X(df_train)\n",
    "    w0, w = train_linear_regression(X_train, y_train)\n",
    "    \n",
    "    # validate\n",
    "    X_val = prepare_X(df_val)\n",
    "    y_pred = w0 + X_val.dot(w)\n",
    "    \n",
    "    \n",
    "    # rmse\n",
    "    score = round(np.sqrt(mean_squared_error(y_val, y_pred)),3)\n",
    "    rmse_scores.append(score)\n",
    "    \n",
    "    print('Seed =  {} , Rmse score = {}'.format(s,score))"
   ]
  },
  {
   "cell_type": "code",
   "execution_count": 34,
   "id": "4c07efda",
   "metadata": {},
   "outputs": [
    {
     "data": {
      "text/plain": [
       "[0.332, 0.342, 0.344, 0.342, 0.339, 0.341, 0.337, 0.341, 0.336, 0.336]"
      ]
     },
     "execution_count": 34,
     "metadata": {},
     "output_type": "execute_result"
    }
   ],
   "source": [
    "rmse_scores"
   ]
  },
  {
   "cell_type": "code",
   "execution_count": 35,
   "id": "2302e3f2",
   "metadata": {},
   "outputs": [
    {
     "name": "stdout",
     "output_type": "stream",
     "text": [
      " STD of RMSE Scores = 0.003\n"
     ]
    }
   ],
   "source": [
    "std = np.std(rmse_scores)\n",
    "print(' STD of RMSE Scores = {}'.format(round(std,3)))"
   ]
  },
  {
   "cell_type": "markdown",
   "id": "aa900e54",
   "metadata": {},
   "source": [
    "#### using seed 9"
   ]
  },
  {
   "cell_type": "code",
   "execution_count": 36,
   "id": "561dc00c",
   "metadata": {},
   "outputs": [],
   "source": [
    "np.random.seed(9)\n",
    "np.random.shuffle(idx)\n",
    "df_train = df.iloc[idx[:n_train]]\n",
    "df_val = df.iloc[idx[n_train:n_train+n_val]]\n",
    "df_test = df.iloc[idx[n_train+n_val:]]\n",
    "    \n",
    "df_train = df_train.reset_index(drop=True)\n",
    "df_val = df_val.reset_index(drop=True)\n",
    "df_test = df_test.reset_index(drop=True)\n",
    "\n",
    "y_train = np.log1p(df_train.median_house_value.values)\n",
    "y_val = np.log1p(df_val.median_house_value.values)\n",
    "y_test = np.log1p(df_test.median_house_value.values)"
   ]
  },
  {
   "cell_type": "markdown",
   "id": "f9ee276e",
   "metadata": {},
   "source": [
    "#### Combine train and validation datasets"
   ]
  },
  {
   "cell_type": "code",
   "execution_count": 37,
   "id": "3c59a499",
   "metadata": {},
   "outputs": [],
   "source": [
    "df_full_train = pd.concat([df_train, df_val])\n",
    "df_full_train = df_full_train.reset_index(drop=True)\n",
    "X_full_train = prepare_X(df_full_train)\n",
    "\n",
    "y_full_train = np.concatenate([y_train, y_val])"
   ]
  },
  {
   "cell_type": "code",
   "execution_count": 38,
   "id": "2c8a12a7",
   "metadata": {},
   "outputs": [],
   "source": [
    "w0, w = train_linear_regression_reg(X_full_train, y_full_train, r=0.001)"
   ]
  },
  {
   "cell_type": "code",
   "execution_count": 39,
   "id": "26974527",
   "metadata": {},
   "outputs": [
    {
     "data": {
      "text/plain": [
       "0.34"
      ]
     },
     "execution_count": 39,
     "metadata": {},
     "output_type": "execute_result"
    }
   ],
   "source": [
    "X_test = prepare_X(df_test)\n",
    "y_pred = w0 + X_test.dot(w)\n",
    "score = rmse(y_test, y_pred)\n",
    "round(score,2)"
   ]
  },
  {
   "cell_type": "code",
   "execution_count": 40,
   "id": "26e67e9d",
   "metadata": {},
   "outputs": [
    {
     "data": {
      "text/plain": [
       "{'latitude': 33.94,\n",
       " 'longitude': -117.44,\n",
       " 'housing_median_age': 32.0,\n",
       " 'total_rooms': 2349.0,\n",
       " 'total_bedrooms': 452.0,\n",
       " 'population': 1479.0,\n",
       " 'households': 425.0,\n",
       " 'median_income': 3.9118,\n",
       " 'median_house_value': 114100.0}"
      ]
     },
     "execution_count": 40,
     "metadata": {},
     "output_type": "execute_result"
    }
   ],
   "source": [
    "house = df_test.iloc[15].to_dict()\n",
    "house"
   ]
  },
  {
   "cell_type": "code",
   "execution_count": 41,
   "id": "65b2764d",
   "metadata": {},
   "outputs": [
    {
     "data": {
      "text/html": [
       "<div>\n",
       "<style scoped>\n",
       "    .dataframe tbody tr th:only-of-type {\n",
       "        vertical-align: middle;\n",
       "    }\n",
       "\n",
       "    .dataframe tbody tr th {\n",
       "        vertical-align: top;\n",
       "    }\n",
       "\n",
       "    .dataframe thead th {\n",
       "        text-align: right;\n",
       "    }\n",
       "</style>\n",
       "<table border=\"1\" class=\"dataframe\">\n",
       "  <thead>\n",
       "    <tr style=\"text-align: right;\">\n",
       "      <th></th>\n",
       "      <th>latitude</th>\n",
       "      <th>longitude</th>\n",
       "      <th>housing_median_age</th>\n",
       "      <th>total_rooms</th>\n",
       "      <th>total_bedrooms</th>\n",
       "      <th>population</th>\n",
       "      <th>households</th>\n",
       "      <th>median_income</th>\n",
       "      <th>median_house_value</th>\n",
       "    </tr>\n",
       "  </thead>\n",
       "  <tbody>\n",
       "    <tr>\n",
       "      <th>0</th>\n",
       "      <td>33.94</td>\n",
       "      <td>-117.44</td>\n",
       "      <td>32.0</td>\n",
       "      <td>2349.0</td>\n",
       "      <td>452.0</td>\n",
       "      <td>1479.0</td>\n",
       "      <td>425.0</td>\n",
       "      <td>3.9118</td>\n",
       "      <td>114100.0</td>\n",
       "    </tr>\n",
       "  </tbody>\n",
       "</table>\n",
       "</div>"
      ],
      "text/plain": [
       "   latitude  longitude  housing_median_age  total_rooms  total_bedrooms  \\\n",
       "0     33.94    -117.44                32.0       2349.0           452.0   \n",
       "\n",
       "   population  households  median_income  median_house_value  \n",
       "0      1479.0       425.0         3.9118            114100.0  "
      ]
     },
     "execution_count": 41,
     "metadata": {},
     "output_type": "execute_result"
    }
   ],
   "source": [
    "df_small = pd.DataFrame([house])\n",
    "df_small"
   ]
  },
  {
   "cell_type": "code",
   "execution_count": 42,
   "id": "7773b50a",
   "metadata": {},
   "outputs": [
    {
     "data": {
      "text/plain": [
       "11.948030088643478"
      ]
     },
     "execution_count": 42,
     "metadata": {},
     "output_type": "execute_result"
    }
   ],
   "source": [
    "X_small = prepare_X(df_small)\n",
    "\n",
    "y_pred = w0 + X_small.dot(w)\n",
    "y_pred = y_pred[0]\n",
    "y_pred"
   ]
  },
  {
   "cell_type": "code",
   "execution_count": 43,
   "id": "4b409cf9",
   "metadata": {},
   "outputs": [
    {
     "data": {
      "text/plain": [
       "154511.47071175653"
      ]
     },
     "execution_count": 43,
     "metadata": {},
     "output_type": "execute_result"
    }
   ],
   "source": [
    "np.expm1(y_pred)"
   ]
  },
  {
   "cell_type": "code",
   "execution_count": 44,
   "id": "ac47d368",
   "metadata": {},
   "outputs": [
    {
     "data": {
      "text/plain": [
       "(154511.47071175653, 114099.99999999997)"
      ]
     },
     "execution_count": 44,
     "metadata": {},
     "output_type": "execute_result"
    }
   ],
   "source": [
    "np.expm1(y_pred), np.expm1(y_test[15])"
   ]
  },
  {
   "cell_type": "code",
   "execution_count": null,
   "id": "83093a93",
   "metadata": {},
   "outputs": [],
   "source": []
  }
 ],
 "metadata": {
  "kernelspec": {
   "display_name": "Python 3 (ipykernel)",
   "language": "python",
   "name": "python3"
  },
  "language_info": {
   "codemirror_mode": {
    "name": "ipython",
    "version": 3
   },
   "file_extension": ".py",
   "mimetype": "text/x-python",
   "name": "python",
   "nbconvert_exporter": "python",
   "pygments_lexer": "ipython3",
   "version": "3.11.3"
  }
 },
 "nbformat": 4,
 "nbformat_minor": 5
}
